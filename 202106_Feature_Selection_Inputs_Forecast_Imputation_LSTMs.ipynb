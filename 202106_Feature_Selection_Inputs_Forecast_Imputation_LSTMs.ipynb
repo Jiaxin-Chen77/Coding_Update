{
 "cells": [
  {
   "cell_type": "markdown",
   "metadata": {},
   "source": [
    "# LSTMs forecast with considering feature selection (1-1, Multi-1, Multi-Multi)"
   ]
  },
  {
   "cell_type": "markdown",
   "metadata": {},
   "source": [
    "### 1) Prepare Dataset\n",
    "　　－　Imputation dataset (from the gap filling result by '202105_Fill_gap_with_LRTC-TNN_all para-include_tempre.ipynb'  \n",
    "　　－　3 buoys '2010-01-02 00:00:00' - '2019-12-30 23:30:00' with no NaN value, totally 175200 rows x 21 columns  \n",
    "　　－　Degree transfer to sin & cos which can be reversed back to degree\n",
    "### 2) Model Variables\n",
    "　　－　taget_feature_FS, target_feature, n_past, n_future\n",
    "### 3) Feature Selection (ElasticNetCV)\n",
    "　　－　Reasons of choosing ElasticNetCV see the Jupyter Notebook '202105_Feature_Selection_Experiments.ipynb'\n",
    "### 4) Generate training dataset (MinMax Normalization)\n",
    "　　－　Train on table[:6000], test on table[6000:7200]\n",
    "### 5) Generate Model\n",
    "　　－　**No feature selection LSTM 1-to-1:** build_model_LSTM_1_1buoy(train, n_past, n_future, FS_order)  \n",
    "　　－　**No feature selection LSTM all-to-1:** build_model_LSTM_1buoy(train, n_past, n_future, FS_order)  \n",
    "　　－　<font color='red'>**LSTM with feature selection: build_model_LSTM_FS_1buoy(train, n_past, n_future, FS_order)**</font>   \n",
    "　　－　**Seq2Seq:** build_model_StackedLSTM_FS_1buoy(train, n_past, n_future, FS_order)  \n",
    "　　－　**2StackedSeq2Seq:** build_model_2StackedLSTM(train, n_past, n_future, FS_order)  \n",
    "　　－　**LSTM Dirp transformation only:** build_model_LSTM_FS_Dirp(train, n_past, n_future, FS_order)  \n",
    "　　－　**Conditional LSTM considering ERA5:** build_model_ConditionLSTM_FS_1buoy(train, train_condition, n_past, n_future, FS_order)  \n",
    "  -  Using AutoEncoder to realize dimensionality reduction: 5x5x2 => 5 => train_condition\n",
    "      \n",
    "### 6) Evaluate prediction\n",
    "      \n",
    "\n",
    "\n",
    "### General Conclusions:　\n",
    "　　1) Feature selection can improve the accuracy and efficiency of forecast  \n",
    "　　2) LSTM performs equivalent to Seq2Seq and 2-stacked-Seq2Seq with same layer number  \n",
    "　　3) Dirp transformation to sin cos can get equivalent accuracy to forecast on degree. But it has a drawback that sometimes the regressive cos_x might get values less than -1 which makes it invalid. When updating the transfer function, the prediction accuracy decreases. Therefore, Dirp transformation in the sin & cos way is not necessary.  "
   ]
  },
  {
   "cell_type": "code",
   "execution_count": 1,
   "metadata": {
    "scrolled": true
   },
   "outputs": [
    {
     "name": "stderr",
     "output_type": "stream",
     "text": [
      "C:\\ProgramData\\Anaconda3\\lib\\site-packages\\sklearn\\externals\\joblib\\__init__.py:15: DeprecationWarning: sklearn.externals.joblib is deprecated in 0.21 and will be removed in 0.23. Please import this functionality directly from joblib, which can be installed with: pip install joblib. If this warning is raised when loading pickled models, you may need to re-serialize those models with scikit-learn 0.21+.\n",
      "  warnings.warn(msg, category=DeprecationWarning)\n"
     ]
    }
   ],
   "source": [
    "# multivariate multi-step data preparation\n",
    "from numpy import array\n",
    "from numpy import hstack\n",
    "import numpy as np\n",
    "import pandas as pd\n",
    "import matplotlib.pyplot as plt\n",
    "from sklearn.externals import joblib\n",
    "from sklearn.model_selection import train_test_split\n",
    "import pydot"
   ]
  },
  {
   "cell_type": "code",
   "execution_count": 66,
   "metadata": {},
   "outputs": [],
   "source": [
    "import tensorflow as tf\n",
    "from tensorflow.keras.models import Sequential\n",
    "from tensorflow.keras.layers import LSTM\n",
    "from tensorflow.keras.layers import MaxPooling1D\n",
    "from tensorflow.keras.layers import MaxPooling2D\n",
    "from tensorflow.keras.layers import Dense, Input, Activation, Flatten, Convolution1D, Dropout\n",
    "from tensorflow.keras.layers import Conv1D\n",
    "from tensorflow.keras.layers import Conv2D\n",
    "from tensorflow.keras.layers import Dropout\n",
    "from tensorflow.keras import regularizers\n",
    "from tensorflow.keras.layers import RepeatVector\n",
    "from tensorflow.keras.layers import TimeDistributed\n",
    "from tensorflow.keras.layers import BatchNormalization\n",
    "from tensorflow.keras.layers import Reshape\n",
    "from tensorflow.keras.layers import Attention\n",
    "from tensorflow.keras.utils import plot_model\n",
    "from tensorflow.keras import Model\n",
    "\n",
    "import tensorflow.keras.backend as K\n",
    "import tensorflow.keras.layers as L\n",
    "import tensorflow.keras.models as M\n",
    "from tensorflow.keras.optimizers import Adam,Nadam\n",
    "from tensorflow.keras import initializers\n",
    "from sklearn.model_selection import KFold,GroupKFold"
   ]
  },
  {
   "cell_type": "code",
   "execution_count": 3,
   "metadata": {},
   "outputs": [],
   "source": [
    "import os\n",
    "os.environ[\"PATH\"] += \";C:/Program Files (x86)/Graphviz2.38/bin\""
   ]
  },
  {
   "cell_type": "code",
   "execution_count": 4,
   "metadata": {},
   "outputs": [
    {
     "name": "stdout",
     "output_type": "stream",
     "text": [
      "2.5.0\n"
     ]
    }
   ],
   "source": [
    "import keras\n",
    "print(keras.__version__)"
   ]
  },
  {
   "cell_type": "code",
   "execution_count": 5,
   "metadata": {},
   "outputs": [],
   "source": [
    "import math\n",
    "import numpy as np\n",
    "import pandas as pd\n",
    "import matplotlib.pyplot as plt\n",
    "from scipy.io import loadmat\n",
    "import datetime\n",
    "from sklearn.preprocessing import MinMaxScaler"
   ]
  },
  {
   "cell_type": "code",
   "execution_count": 6,
   "metadata": {},
   "outputs": [],
   "source": [
    "import pickle\n",
    "def save(fname, data, protocol=3):\n",
    "    with open(fname, \"wb\") as f:\n",
    "        pickle.dump(data, f, protocol)\n",
    "\n",
    "def load(fname):\n",
    "    with open(fname, \"rb\") as f:\n",
    "        return pickle.load(f)"
   ]
  },
  {
   "cell_type": "code",
   "execution_count": 7,
   "metadata": {},
   "outputs": [],
   "source": [
    "def cal_RMSE(origin, pred):\n",
    "    mse = np.average((pred-origin)**2)\n",
    "    rmse = np.sqrt(mse)\n",
    "\n",
    "    return rmse\n",
    "\n",
    "# def cal_MAPE(origin, pred):\n",
    "#     from sklearn.metrics import mean_absolute_percentage_error as MAPE\n",
    "#     return MAPE(origin, pred)"
   ]
  },
  {
   "cell_type": "markdown",
   "metadata": {},
   "source": [
    "# 1) Prepare Dataset"
   ]
  },
  {
   "cell_type": "code",
   "execution_count": 257,
   "metadata": {
    "scrolled": true
   },
   "outputs": [
    {
     "data": {
      "text/html": [
       "<div>\n",
       "<style scoped>\n",
       "    .dataframe tbody tr th:only-of-type {\n",
       "        vertical-align: middle;\n",
       "    }\n",
       "\n",
       "    .dataframe tbody tr th {\n",
       "        vertical-align: top;\n",
       "    }\n",
       "\n",
       "    .dataframe thead th {\n",
       "        text-align: right;\n",
       "    }\n",
       "</style>\n",
       "<table border=\"1\" class=\"dataframe\">\n",
       "  <thead>\n",
       "    <tr style=\"text-align: right;\">\n",
       "      <th></th>\n",
       "      <th>1Wave Height (m)</th>\n",
       "      <th>1Max Wave Height (m)</th>\n",
       "      <th>1Tpeak (s)</th>\n",
       "      <th>1Tz (s)</th>\n",
       "      <th>1Peak Direction (degrees)</th>\n",
       "      <th>1Spread (degrees)</th>\n",
       "      <th>1Sea Temp (C)</th>\n",
       "      <th>2Wave Height (m)</th>\n",
       "      <th>2Max Wave Height (m)</th>\n",
       "      <th>2Tpeak (s)</th>\n",
       "      <th>...</th>\n",
       "      <th>2Peak Direction (degrees)</th>\n",
       "      <th>2Spread (degrees)</th>\n",
       "      <th>2Sea Temp (C)</th>\n",
       "      <th>3Wave Height (m)</th>\n",
       "      <th>3Max Wave Height (m)</th>\n",
       "      <th>3Tpeak (s)</th>\n",
       "      <th>3Tz (s)</th>\n",
       "      <th>3Peak Direction (degrees)</th>\n",
       "      <th>3Spread (degrees)</th>\n",
       "      <th>3Sea Temp (C)</th>\n",
       "    </tr>\n",
       "    <tr>\n",
       "      <th>Time (GMT)</th>\n",
       "      <th></th>\n",
       "      <th></th>\n",
       "      <th></th>\n",
       "      <th></th>\n",
       "      <th></th>\n",
       "      <th></th>\n",
       "      <th></th>\n",
       "      <th></th>\n",
       "      <th></th>\n",
       "      <th></th>\n",
       "      <th></th>\n",
       "      <th></th>\n",
       "      <th></th>\n",
       "      <th></th>\n",
       "      <th></th>\n",
       "      <th></th>\n",
       "      <th></th>\n",
       "      <th></th>\n",
       "      <th></th>\n",
       "      <th></th>\n",
       "      <th></th>\n",
       "    </tr>\n",
       "  </thead>\n",
       "  <tbody>\n",
       "    <tr>\n",
       "      <th>2010-01-02 00:00:00</th>\n",
       "      <td>0.390</td>\n",
       "      <td>0.560</td>\n",
       "      <td>10.80</td>\n",
       "      <td>6.55</td>\n",
       "      <td>187.5</td>\n",
       "      <td>13.0</td>\n",
       "      <td>8.15</td>\n",
       "      <td>0.550</td>\n",
       "      <td>0.780</td>\n",
       "      <td>12.20</td>\n",
       "      <td>...</td>\n",
       "      <td>204.5</td>\n",
       "      <td>17.0</td>\n",
       "      <td>9.05</td>\n",
       "      <td>0.530</td>\n",
       "      <td>0.865</td>\n",
       "      <td>7.65</td>\n",
       "      <td>4.05</td>\n",
       "      <td>299.5</td>\n",
       "      <td>34.5</td>\n",
       "      <td>9.05</td>\n",
       "    </tr>\n",
       "    <tr>\n",
       "      <th>2010-01-02 01:00:00</th>\n",
       "      <td>0.380</td>\n",
       "      <td>0.570</td>\n",
       "      <td>12.15</td>\n",
       "      <td>6.90</td>\n",
       "      <td>184.0</td>\n",
       "      <td>10.5</td>\n",
       "      <td>8.15</td>\n",
       "      <td>0.515</td>\n",
       "      <td>0.825</td>\n",
       "      <td>11.80</td>\n",
       "      <td>...</td>\n",
       "      <td>209.0</td>\n",
       "      <td>16.5</td>\n",
       "      <td>9.00</td>\n",
       "      <td>0.545</td>\n",
       "      <td>0.770</td>\n",
       "      <td>7.20</td>\n",
       "      <td>4.15</td>\n",
       "      <td>303.0</td>\n",
       "      <td>40.0</td>\n",
       "      <td>9.00</td>\n",
       "    </tr>\n",
       "    <tr>\n",
       "      <th>2010-01-02 02:00:00</th>\n",
       "      <td>0.370</td>\n",
       "      <td>0.525</td>\n",
       "      <td>10.80</td>\n",
       "      <td>7.10</td>\n",
       "      <td>189.0</td>\n",
       "      <td>12.0</td>\n",
       "      <td>8.30</td>\n",
       "      <td>0.465</td>\n",
       "      <td>0.690</td>\n",
       "      <td>11.50</td>\n",
       "      <td>...</td>\n",
       "      <td>212.0</td>\n",
       "      <td>16.5</td>\n",
       "      <td>9.00</td>\n",
       "      <td>0.590</td>\n",
       "      <td>0.950</td>\n",
       "      <td>10.25</td>\n",
       "      <td>4.20</td>\n",
       "      <td>280.0</td>\n",
       "      <td>27.0</td>\n",
       "      <td>8.85</td>\n",
       "    </tr>\n",
       "    <tr>\n",
       "      <th>2010-01-02 03:00:00</th>\n",
       "      <td>0.350</td>\n",
       "      <td>0.555</td>\n",
       "      <td>11.10</td>\n",
       "      <td>5.75</td>\n",
       "      <td>190.0</td>\n",
       "      <td>20.5</td>\n",
       "      <td>8.85</td>\n",
       "      <td>0.480</td>\n",
       "      <td>0.780</td>\n",
       "      <td>10.80</td>\n",
       "      <td>...</td>\n",
       "      <td>219.0</td>\n",
       "      <td>13.5</td>\n",
       "      <td>8.95</td>\n",
       "      <td>0.705</td>\n",
       "      <td>1.260</td>\n",
       "      <td>4.40</td>\n",
       "      <td>3.75</td>\n",
       "      <td>332.0</td>\n",
       "      <td>44.0</td>\n",
       "      <td>8.80</td>\n",
       "    </tr>\n",
       "    <tr>\n",
       "      <th>2010-01-02 04:00:00</th>\n",
       "      <td>0.360</td>\n",
       "      <td>0.550</td>\n",
       "      <td>10.50</td>\n",
       "      <td>6.90</td>\n",
       "      <td>187.0</td>\n",
       "      <td>25.0</td>\n",
       "      <td>8.90</td>\n",
       "      <td>0.480</td>\n",
       "      <td>0.720</td>\n",
       "      <td>10.55</td>\n",
       "      <td>...</td>\n",
       "      <td>216.0</td>\n",
       "      <td>17.0</td>\n",
       "      <td>8.50</td>\n",
       "      <td>0.840</td>\n",
       "      <td>1.375</td>\n",
       "      <td>4.60</td>\n",
       "      <td>3.50</td>\n",
       "      <td>337.5</td>\n",
       "      <td>47.0</td>\n",
       "      <td>9.10</td>\n",
       "    </tr>\n",
       "    <tr>\n",
       "      <th>...</th>\n",
       "      <td>...</td>\n",
       "      <td>...</td>\n",
       "      <td>...</td>\n",
       "      <td>...</td>\n",
       "      <td>...</td>\n",
       "      <td>...</td>\n",
       "      <td>...</td>\n",
       "      <td>...</td>\n",
       "      <td>...</td>\n",
       "      <td>...</td>\n",
       "      <td>...</td>\n",
       "      <td>...</td>\n",
       "      <td>...</td>\n",
       "      <td>...</td>\n",
       "      <td>...</td>\n",
       "      <td>...</td>\n",
       "      <td>...</td>\n",
       "      <td>...</td>\n",
       "      <td>...</td>\n",
       "      <td>...</td>\n",
       "      <td>...</td>\n",
       "    </tr>\n",
       "    <tr>\n",
       "      <th>2019-12-30 19:00:00</th>\n",
       "      <td>0.850</td>\n",
       "      <td>1.495</td>\n",
       "      <td>5.05</td>\n",
       "      <td>4.30</td>\n",
       "      <td>188.0</td>\n",
       "      <td>20.5</td>\n",
       "      <td>10.60</td>\n",
       "      <td>0.880</td>\n",
       "      <td>1.375</td>\n",
       "      <td>11.15</td>\n",
       "      <td>...</td>\n",
       "      <td>210.5</td>\n",
       "      <td>15.0</td>\n",
       "      <td>10.70</td>\n",
       "      <td>1.460</td>\n",
       "      <td>2.230</td>\n",
       "      <td>11.80</td>\n",
       "      <td>6.40</td>\n",
       "      <td>266.0</td>\n",
       "      <td>48.5</td>\n",
       "      <td>10.60</td>\n",
       "    </tr>\n",
       "    <tr>\n",
       "      <th>2019-12-30 20:00:00</th>\n",
       "      <td>0.805</td>\n",
       "      <td>1.145</td>\n",
       "      <td>5.15</td>\n",
       "      <td>4.35</td>\n",
       "      <td>188.0</td>\n",
       "      <td>18.5</td>\n",
       "      <td>10.60</td>\n",
       "      <td>0.920</td>\n",
       "      <td>1.285</td>\n",
       "      <td>10.80</td>\n",
       "      <td>...</td>\n",
       "      <td>212.5</td>\n",
       "      <td>12.5</td>\n",
       "      <td>10.70</td>\n",
       "      <td>1.425</td>\n",
       "      <td>2.070</td>\n",
       "      <td>11.45</td>\n",
       "      <td>6.65</td>\n",
       "      <td>260.5</td>\n",
       "      <td>41.5</td>\n",
       "      <td>10.60</td>\n",
       "    </tr>\n",
       "    <tr>\n",
       "      <th>2019-12-30 21:00:00</th>\n",
       "      <td>0.745</td>\n",
       "      <td>1.225</td>\n",
       "      <td>5.15</td>\n",
       "      <td>4.30</td>\n",
       "      <td>185.0</td>\n",
       "      <td>19.0</td>\n",
       "      <td>10.55</td>\n",
       "      <td>0.905</td>\n",
       "      <td>1.165</td>\n",
       "      <td>10.55</td>\n",
       "      <td>...</td>\n",
       "      <td>206.0</td>\n",
       "      <td>14.0</td>\n",
       "      <td>10.85</td>\n",
       "      <td>1.280</td>\n",
       "      <td>2.020</td>\n",
       "      <td>11.80</td>\n",
       "      <td>6.45</td>\n",
       "      <td>282.0</td>\n",
       "      <td>36.0</td>\n",
       "      <td>10.60</td>\n",
       "    </tr>\n",
       "    <tr>\n",
       "      <th>2019-12-30 22:00:00</th>\n",
       "      <td>0.710</td>\n",
       "      <td>0.975</td>\n",
       "      <td>5.45</td>\n",
       "      <td>4.25</td>\n",
       "      <td>183.5</td>\n",
       "      <td>21.0</td>\n",
       "      <td>10.50</td>\n",
       "      <td>0.830</td>\n",
       "      <td>1.295</td>\n",
       "      <td>11.45</td>\n",
       "      <td>...</td>\n",
       "      <td>210.5</td>\n",
       "      <td>15.0</td>\n",
       "      <td>10.90</td>\n",
       "      <td>1.230</td>\n",
       "      <td>1.870</td>\n",
       "      <td>11.45</td>\n",
       "      <td>6.65</td>\n",
       "      <td>275.5</td>\n",
       "      <td>37.0</td>\n",
       "      <td>10.60</td>\n",
       "    </tr>\n",
       "    <tr>\n",
       "      <th>2019-12-30 23:00:00</th>\n",
       "      <td>0.735</td>\n",
       "      <td>1.150</td>\n",
       "      <td>5.60</td>\n",
       "      <td>4.10</td>\n",
       "      <td>180.5</td>\n",
       "      <td>19.5</td>\n",
       "      <td>10.50</td>\n",
       "      <td>0.805</td>\n",
       "      <td>1.000</td>\n",
       "      <td>11.45</td>\n",
       "      <td>...</td>\n",
       "      <td>210.0</td>\n",
       "      <td>14.5</td>\n",
       "      <td>10.85</td>\n",
       "      <td>1.260</td>\n",
       "      <td>1.635</td>\n",
       "      <td>11.80</td>\n",
       "      <td>6.95</td>\n",
       "      <td>279.0</td>\n",
       "      <td>32.5</td>\n",
       "      <td>10.60</td>\n",
       "    </tr>\n",
       "  </tbody>\n",
       "</table>\n",
       "<p>87600 rows × 21 columns</p>\n",
       "</div>"
      ],
      "text/plain": [
       "                     1Wave Height (m)  1Max Wave Height (m)  1Tpeak (s)  \\\n",
       "Time (GMT)                                                                \n",
       "2010-01-02 00:00:00             0.390                 0.560       10.80   \n",
       "2010-01-02 01:00:00             0.380                 0.570       12.15   \n",
       "2010-01-02 02:00:00             0.370                 0.525       10.80   \n",
       "2010-01-02 03:00:00             0.350                 0.555       11.10   \n",
       "2010-01-02 04:00:00             0.360                 0.550       10.50   \n",
       "...                               ...                   ...         ...   \n",
       "2019-12-30 19:00:00             0.850                 1.495        5.05   \n",
       "2019-12-30 20:00:00             0.805                 1.145        5.15   \n",
       "2019-12-30 21:00:00             0.745                 1.225        5.15   \n",
       "2019-12-30 22:00:00             0.710                 0.975        5.45   \n",
       "2019-12-30 23:00:00             0.735                 1.150        5.60   \n",
       "\n",
       "                     1Tz (s)  1Peak Direction (degrees)  1Spread (degrees)  \\\n",
       "Time (GMT)                                                                   \n",
       "2010-01-02 00:00:00     6.55                      187.5               13.0   \n",
       "2010-01-02 01:00:00     6.90                      184.0               10.5   \n",
       "2010-01-02 02:00:00     7.10                      189.0               12.0   \n",
       "2010-01-02 03:00:00     5.75                      190.0               20.5   \n",
       "2010-01-02 04:00:00     6.90                      187.0               25.0   \n",
       "...                      ...                        ...                ...   \n",
       "2019-12-30 19:00:00     4.30                      188.0               20.5   \n",
       "2019-12-30 20:00:00     4.35                      188.0               18.5   \n",
       "2019-12-30 21:00:00     4.30                      185.0               19.0   \n",
       "2019-12-30 22:00:00     4.25                      183.5               21.0   \n",
       "2019-12-30 23:00:00     4.10                      180.5               19.5   \n",
       "\n",
       "                     1Sea Temp (C)  2Wave Height (m)  2Max Wave Height (m)  \\\n",
       "Time (GMT)                                                                   \n",
       "2010-01-02 00:00:00           8.15             0.550                 0.780   \n",
       "2010-01-02 01:00:00           8.15             0.515                 0.825   \n",
       "2010-01-02 02:00:00           8.30             0.465                 0.690   \n",
       "2010-01-02 03:00:00           8.85             0.480                 0.780   \n",
       "2010-01-02 04:00:00           8.90             0.480                 0.720   \n",
       "...                            ...               ...                   ...   \n",
       "2019-12-30 19:00:00          10.60             0.880                 1.375   \n",
       "2019-12-30 20:00:00          10.60             0.920                 1.285   \n",
       "2019-12-30 21:00:00          10.55             0.905                 1.165   \n",
       "2019-12-30 22:00:00          10.50             0.830                 1.295   \n",
       "2019-12-30 23:00:00          10.50             0.805                 1.000   \n",
       "\n",
       "                     2Tpeak (s)  ...  2Peak Direction (degrees)  \\\n",
       "Time (GMT)                       ...                              \n",
       "2010-01-02 00:00:00       12.20  ...                      204.5   \n",
       "2010-01-02 01:00:00       11.80  ...                      209.0   \n",
       "2010-01-02 02:00:00       11.50  ...                      212.0   \n",
       "2010-01-02 03:00:00       10.80  ...                      219.0   \n",
       "2010-01-02 04:00:00       10.55  ...                      216.0   \n",
       "...                         ...  ...                        ...   \n",
       "2019-12-30 19:00:00       11.15  ...                      210.5   \n",
       "2019-12-30 20:00:00       10.80  ...                      212.5   \n",
       "2019-12-30 21:00:00       10.55  ...                      206.0   \n",
       "2019-12-30 22:00:00       11.45  ...                      210.5   \n",
       "2019-12-30 23:00:00       11.45  ...                      210.0   \n",
       "\n",
       "                     2Spread (degrees)  2Sea Temp (C)  3Wave Height (m)  \\\n",
       "Time (GMT)                                                                \n",
       "2010-01-02 00:00:00               17.0           9.05             0.530   \n",
       "2010-01-02 01:00:00               16.5           9.00             0.545   \n",
       "2010-01-02 02:00:00               16.5           9.00             0.590   \n",
       "2010-01-02 03:00:00               13.5           8.95             0.705   \n",
       "2010-01-02 04:00:00               17.0           8.50             0.840   \n",
       "...                                ...            ...               ...   \n",
       "2019-12-30 19:00:00               15.0          10.70             1.460   \n",
       "2019-12-30 20:00:00               12.5          10.70             1.425   \n",
       "2019-12-30 21:00:00               14.0          10.85             1.280   \n",
       "2019-12-30 22:00:00               15.0          10.90             1.230   \n",
       "2019-12-30 23:00:00               14.5          10.85             1.260   \n",
       "\n",
       "                     3Max Wave Height (m)  3Tpeak (s)  3Tz (s)  \\\n",
       "Time (GMT)                                                       \n",
       "2010-01-02 00:00:00                 0.865        7.65     4.05   \n",
       "2010-01-02 01:00:00                 0.770        7.20     4.15   \n",
       "2010-01-02 02:00:00                 0.950       10.25     4.20   \n",
       "2010-01-02 03:00:00                 1.260        4.40     3.75   \n",
       "2010-01-02 04:00:00                 1.375        4.60     3.50   \n",
       "...                                   ...         ...      ...   \n",
       "2019-12-30 19:00:00                 2.230       11.80     6.40   \n",
       "2019-12-30 20:00:00                 2.070       11.45     6.65   \n",
       "2019-12-30 21:00:00                 2.020       11.80     6.45   \n",
       "2019-12-30 22:00:00                 1.870       11.45     6.65   \n",
       "2019-12-30 23:00:00                 1.635       11.80     6.95   \n",
       "\n",
       "                     3Peak Direction (degrees)  3Spread (degrees)  \\\n",
       "Time (GMT)                                                          \n",
       "2010-01-02 00:00:00                      299.5               34.5   \n",
       "2010-01-02 01:00:00                      303.0               40.0   \n",
       "2010-01-02 02:00:00                      280.0               27.0   \n",
       "2010-01-02 03:00:00                      332.0               44.0   \n",
       "2010-01-02 04:00:00                      337.5               47.0   \n",
       "...                                        ...                ...   \n",
       "2019-12-30 19:00:00                      266.0               48.5   \n",
       "2019-12-30 20:00:00                      260.5               41.5   \n",
       "2019-12-30 21:00:00                      282.0               36.0   \n",
       "2019-12-30 22:00:00                      275.5               37.0   \n",
       "2019-12-30 23:00:00                      279.0               32.5   \n",
       "\n",
       "                     3Sea Temp (C)  \n",
       "Time (GMT)                          \n",
       "2010-01-02 00:00:00           9.05  \n",
       "2010-01-02 01:00:00           9.00  \n",
       "2010-01-02 02:00:00           8.85  \n",
       "2010-01-02 03:00:00           8.80  \n",
       "2010-01-02 04:00:00           9.10  \n",
       "...                            ...  \n",
       "2019-12-30 19:00:00          10.60  \n",
       "2019-12-30 20:00:00          10.60  \n",
       "2019-12-30 21:00:00          10.60  \n",
       "2019-12-30 22:00:00          10.60  \n",
       "2019-12-30 23:00:00          10.60  \n",
       "\n",
       "[87600 rows x 21 columns]"
      ]
     },
     "execution_count": 257,
     "metadata": {},
     "output_type": "execute_result"
    }
   ],
   "source": [
    "table = load('Fill_Gap/Imputed_Measurement').resample('H').mean()\n",
    "table.columns = ['1Wave Height (m)', '1Max Wave Height (m)', '1Tpeak (s)', '1Tz (s)',\n",
    "       '1Peak Direction (degrees)', '1Spread (degrees)', '1Sea Temp (C)',\n",
    "       '2Wave Height (m)', '2Max Wave Height (m)', '2Tpeak (s)', '2Tz (s)',\n",
    "       '2Peak Direction (degrees)', '2Spread (degrees)', '2Sea Temp (C)',\n",
    "       '3Wave Height (m)', '3Max Wave Height (m)', '3Tpeak (s)', '3Tz (s)',\n",
    "       '3Peak Direction (degrees)', '3Spread (degrees)', '3Sea Temp (C)']\n",
    "table"
   ]
  },
  {
   "cell_type": "code",
   "execution_count": 9,
   "metadata": {
    "scrolled": true
   },
   "outputs": [
    {
     "data": {
      "text/plain": [
       "87600"
      ]
     },
     "execution_count": 9,
     "metadata": {},
     "output_type": "execute_result"
    }
   ],
   "source": [
    "len(table.dropna()) # Imputation to Non-NaN"
   ]
  },
  {
   "cell_type": "code",
   "execution_count": 1706,
   "metadata": {
    "scrolled": false
   },
   "outputs": [],
   "source": [
    "# Due to gap filling error, negligible numbers of Dirp are above 360. \n",
    "# table[table['1Peak Direction (degrees)']>360] "
   ]
  },
  {
   "cell_type": "markdown",
   "metadata": {},
   "source": [
    "#### Degree transfer\n",
    "According to experiments, the prediction accuracy of Dirp is not satisfied greatly due to the incontinous of degree from 0~360. Here, I tried a new method to transfer degree to sin & cos, and they can be reversed to degree after prediction."
   ]
  },
  {
   "cell_type": "code",
   "execution_count": 2047,
   "metadata": {},
   "outputs": [
    {
     "data": {
      "text/plain": [
       "270.0"
      ]
     },
     "execution_count": 2047,
     "metadata": {},
     "output_type": "execute_result"
    }
   ],
   "source": [
    "# Get degree from sin & cos function\n",
    "from interval import Interval\n",
    "def return_degree(sin_x, cos_x): \n",
    "    if (1 >= sin_x >= 0) & (1 >= cos_x > 0):\n",
    "        return np.arcsin(sin_x)*180/np.pi\n",
    "    if (1 >= sin_x > 0) & (-1<= cos_x <= 0):\n",
    "        return np.arccos(cos_x)*180/np.pi\n",
    "    elif ((cos_x in Interval(-1,1)) & (sin_x in Interval(-1,1)))==True:\n",
    "        return 360-np.arccos(cos_x)*180/np.pi\n",
    "    elif (sin_x in Interval(-1,1))==True:\n",
    "        return 360+np.arcsin(sin_x)*180/np.pi\n",
    "    elif (cos_x in Interval(-1,1))==True:\n",
    "        return 360-np.arccos(cos_x)*180/np.pi\n",
    "    else:\n",
    "        return 0\n",
    "\n",
    "# Example\n",
    "degree_test = 270 # Any degree transfer to within [0, 360]\n",
    "a,b = np.sin(degree_test*np.pi/180), np.cos(degree_test*np.pi/180)\n",
    "return_degree(a,b)"
   ]
  },
  {
   "cell_type": "code",
   "execution_count": 2048,
   "metadata": {},
   "outputs": [],
   "source": [
    "# Transfer degree to sin & cos\n",
    "for i in range(1,4):\n",
    "    locals()['Dirp'+str(i)+'_sin'] = np.array(np.sin(table[str(i)+'Peak Direction (degrees)']*np.pi/180))\n",
    "    locals()['Dirp'+str(i)+'_sin'][(locals()['Dirp'+str(i)+'_sin']<1e-10) & (locals()['Dirp'+str(i)+'_sin']>0)]=0 # Turn small number to 0\n",
    "    locals()['Dirp'+str(i)+'_cos'] = np.array(np.cos(table[str(i)+'Peak Direction (degrees)']*np.pi/180))\n",
    "    locals()['Dirp'+str(i)+'_cos'][(locals()['Dirp'+str(i)+'_cos']<1e-10) & (locals()['Dirp'+str(i)+'_cos']>0)]=0\n",
    "\n",
    "# Reverse sin & cos to degree\n",
    "Dirp1_reverse = np.array([return_degree(Dirp1_sin[j],Dirp1_cos[j]) for j in range(len(table))])\n",
    "Dirp2_reverse = np.array([return_degree(Dirp2_sin[j],Dirp2_cos[j]) for j in range(len(table))])\n",
    "Dirp3_reverse = np.array([return_degree(Dirp3_sin[j],Dirp3_cos[j]) for j in range(len(table))])"
   ]
  },
  {
   "cell_type": "code",
   "execution_count": 2015,
   "metadata": {},
   "outputs": [],
   "source": [
    "for i in range(1,4):\n",
    "    table['Dirp'+str(i)+'_sin'] = locals()['Dirp'+str(i)+'_sin']\n",
    "    table['Dirp'+str(i)+'_cos'] = locals()['Dirp'+str(i)+'_cos']"
   ]
  },
  {
   "cell_type": "code",
   "execution_count": 2016,
   "metadata": {},
   "outputs": [
    {
     "data": {
      "text/html": [
       "<div>\n",
       "<style scoped>\n",
       "    .dataframe tbody tr th:only-of-type {\n",
       "        vertical-align: middle;\n",
       "    }\n",
       "\n",
       "    .dataframe tbody tr th {\n",
       "        vertical-align: top;\n",
       "    }\n",
       "\n",
       "    .dataframe thead th {\n",
       "        text-align: right;\n",
       "    }\n",
       "</style>\n",
       "<table border=\"1\" class=\"dataframe\">\n",
       "  <thead>\n",
       "    <tr style=\"text-align: right;\">\n",
       "      <th></th>\n",
       "      <th>1Wave Height (m)</th>\n",
       "      <th>1Max Wave Height (m)</th>\n",
       "      <th>1Tpeak (s)</th>\n",
       "      <th>1Tz (s)</th>\n",
       "      <th>1Peak Direction (degrees)</th>\n",
       "      <th>1Spread (degrees)</th>\n",
       "      <th>1Sea Temp (C)</th>\n",
       "      <th>2Wave Height (m)</th>\n",
       "      <th>2Max Wave Height (m)</th>\n",
       "      <th>2Tpeak (s)</th>\n",
       "      <th>...</th>\n",
       "      <th>3Tz (s)</th>\n",
       "      <th>3Peak Direction (degrees)</th>\n",
       "      <th>3Spread (degrees)</th>\n",
       "      <th>3Sea Temp (C)</th>\n",
       "      <th>Dirp1_sin</th>\n",
       "      <th>Dirp1_cos</th>\n",
       "      <th>Dirp2_sin</th>\n",
       "      <th>Dirp2_cos</th>\n",
       "      <th>Dirp3_sin</th>\n",
       "      <th>Dirp3_cos</th>\n",
       "    </tr>\n",
       "    <tr>\n",
       "      <th>Time (GMT)</th>\n",
       "      <th></th>\n",
       "      <th></th>\n",
       "      <th></th>\n",
       "      <th></th>\n",
       "      <th></th>\n",
       "      <th></th>\n",
       "      <th></th>\n",
       "      <th></th>\n",
       "      <th></th>\n",
       "      <th></th>\n",
       "      <th></th>\n",
       "      <th></th>\n",
       "      <th></th>\n",
       "      <th></th>\n",
       "      <th></th>\n",
       "      <th></th>\n",
       "      <th></th>\n",
       "      <th></th>\n",
       "      <th></th>\n",
       "      <th></th>\n",
       "      <th></th>\n",
       "    </tr>\n",
       "  </thead>\n",
       "  <tbody>\n",
       "    <tr>\n",
       "      <th>2010-01-02 00:00:00</th>\n",
       "      <td>0.41</td>\n",
       "      <td>0.53</td>\n",
       "      <td>10.5</td>\n",
       "      <td>6.8</td>\n",
       "      <td>188.0</td>\n",
       "      <td>16.0</td>\n",
       "      <td>8.1</td>\n",
       "      <td>0.58</td>\n",
       "      <td>0.77</td>\n",
       "      <td>13.3</td>\n",
       "      <td>...</td>\n",
       "      <td>4.0</td>\n",
       "      <td>283.0</td>\n",
       "      <td>27.0</td>\n",
       "      <td>9.0</td>\n",
       "      <td>-0.139173</td>\n",
       "      <td>-0.990268</td>\n",
       "      <td>-0.358368</td>\n",
       "      <td>-0.933580</td>\n",
       "      <td>-0.974370</td>\n",
       "      <td>0.224951</td>\n",
       "    </tr>\n",
       "    <tr>\n",
       "      <th>2010-01-02 00:30:00</th>\n",
       "      <td>0.37</td>\n",
       "      <td>0.59</td>\n",
       "      <td>11.1</td>\n",
       "      <td>6.3</td>\n",
       "      <td>187.0</td>\n",
       "      <td>10.0</td>\n",
       "      <td>8.2</td>\n",
       "      <td>0.52</td>\n",
       "      <td>0.79</td>\n",
       "      <td>11.1</td>\n",
       "      <td>...</td>\n",
       "      <td>4.1</td>\n",
       "      <td>316.0</td>\n",
       "      <td>42.0</td>\n",
       "      <td>9.1</td>\n",
       "      <td>-0.121869</td>\n",
       "      <td>-0.992546</td>\n",
       "      <td>-0.469472</td>\n",
       "      <td>-0.882948</td>\n",
       "      <td>-0.694658</td>\n",
       "      <td>0.719340</td>\n",
       "    </tr>\n",
       "    <tr>\n",
       "      <th>2010-01-02 01:00:00</th>\n",
       "      <td>0.38</td>\n",
       "      <td>0.55</td>\n",
       "      <td>12.5</td>\n",
       "      <td>6.8</td>\n",
       "      <td>184.0</td>\n",
       "      <td>9.0</td>\n",
       "      <td>8.1</td>\n",
       "      <td>0.52</td>\n",
       "      <td>0.84</td>\n",
       "      <td>11.1</td>\n",
       "      <td>...</td>\n",
       "      <td>4.2</td>\n",
       "      <td>280.0</td>\n",
       "      <td>31.0</td>\n",
       "      <td>9.0</td>\n",
       "      <td>-0.069756</td>\n",
       "      <td>-0.997564</td>\n",
       "      <td>-0.573576</td>\n",
       "      <td>-0.819152</td>\n",
       "      <td>-0.984808</td>\n",
       "      <td>0.173648</td>\n",
       "    </tr>\n",
       "    <tr>\n",
       "      <th>2010-01-02 01:30:00</th>\n",
       "      <td>0.38</td>\n",
       "      <td>0.59</td>\n",
       "      <td>11.8</td>\n",
       "      <td>7.0</td>\n",
       "      <td>184.0</td>\n",
       "      <td>12.0</td>\n",
       "      <td>8.2</td>\n",
       "      <td>0.51</td>\n",
       "      <td>0.81</td>\n",
       "      <td>12.5</td>\n",
       "      <td>...</td>\n",
       "      <td>4.1</td>\n",
       "      <td>326.0</td>\n",
       "      <td>49.0</td>\n",
       "      <td>9.0</td>\n",
       "      <td>-0.069756</td>\n",
       "      <td>-0.997564</td>\n",
       "      <td>-0.390731</td>\n",
       "      <td>-0.920505</td>\n",
       "      <td>-0.559193</td>\n",
       "      <td>0.829038</td>\n",
       "    </tr>\n",
       "    <tr>\n",
       "      <th>2010-01-02 02:00:00</th>\n",
       "      <td>0.39</td>\n",
       "      <td>0.51</td>\n",
       "      <td>11.1</td>\n",
       "      <td>7.3</td>\n",
       "      <td>190.0</td>\n",
       "      <td>11.0</td>\n",
       "      <td>8.3</td>\n",
       "      <td>0.48</td>\n",
       "      <td>0.63</td>\n",
       "      <td>10.5</td>\n",
       "      <td>...</td>\n",
       "      <td>4.2</td>\n",
       "      <td>290.0</td>\n",
       "      <td>22.0</td>\n",
       "      <td>8.8</td>\n",
       "      <td>-0.173648</td>\n",
       "      <td>-0.984808</td>\n",
       "      <td>-0.529919</td>\n",
       "      <td>-0.848048</td>\n",
       "      <td>-0.939693</td>\n",
       "      <td>0.342020</td>\n",
       "    </tr>\n",
       "  </tbody>\n",
       "</table>\n",
       "<p>5 rows × 27 columns</p>\n",
       "</div>"
      ],
      "text/plain": [
       "                     1Wave Height (m)  1Max Wave Height (m)  1Tpeak (s)  \\\n",
       "Time (GMT)                                                                \n",
       "2010-01-02 00:00:00              0.41                  0.53        10.5   \n",
       "2010-01-02 00:30:00              0.37                  0.59        11.1   \n",
       "2010-01-02 01:00:00              0.38                  0.55        12.5   \n",
       "2010-01-02 01:30:00              0.38                  0.59        11.8   \n",
       "2010-01-02 02:00:00              0.39                  0.51        11.1   \n",
       "\n",
       "                     1Tz (s)  1Peak Direction (degrees)  1Spread (degrees)  \\\n",
       "Time (GMT)                                                                   \n",
       "2010-01-02 00:00:00      6.8                      188.0               16.0   \n",
       "2010-01-02 00:30:00      6.3                      187.0               10.0   \n",
       "2010-01-02 01:00:00      6.8                      184.0                9.0   \n",
       "2010-01-02 01:30:00      7.0                      184.0               12.0   \n",
       "2010-01-02 02:00:00      7.3                      190.0               11.0   \n",
       "\n",
       "                     1Sea Temp (C)  2Wave Height (m)  2Max Wave Height (m)  \\\n",
       "Time (GMT)                                                                   \n",
       "2010-01-02 00:00:00            8.1              0.58                  0.77   \n",
       "2010-01-02 00:30:00            8.2              0.52                  0.79   \n",
       "2010-01-02 01:00:00            8.1              0.52                  0.84   \n",
       "2010-01-02 01:30:00            8.2              0.51                  0.81   \n",
       "2010-01-02 02:00:00            8.3              0.48                  0.63   \n",
       "\n",
       "                     2Tpeak (s)  ...  3Tz (s)  3Peak Direction (degrees)  \\\n",
       "Time (GMT)                       ...                                       \n",
       "2010-01-02 00:00:00        13.3  ...      4.0                      283.0   \n",
       "2010-01-02 00:30:00        11.1  ...      4.1                      316.0   \n",
       "2010-01-02 01:00:00        11.1  ...      4.2                      280.0   \n",
       "2010-01-02 01:30:00        12.5  ...      4.1                      326.0   \n",
       "2010-01-02 02:00:00        10.5  ...      4.2                      290.0   \n",
       "\n",
       "                     3Spread (degrees)  3Sea Temp (C)  Dirp1_sin  Dirp1_cos  \\\n",
       "Time (GMT)                                                                    \n",
       "2010-01-02 00:00:00               27.0            9.0  -0.139173  -0.990268   \n",
       "2010-01-02 00:30:00               42.0            9.1  -0.121869  -0.992546   \n",
       "2010-01-02 01:00:00               31.0            9.0  -0.069756  -0.997564   \n",
       "2010-01-02 01:30:00               49.0            9.0  -0.069756  -0.997564   \n",
       "2010-01-02 02:00:00               22.0            8.8  -0.173648  -0.984808   \n",
       "\n",
       "                     Dirp2_sin  Dirp2_cos  Dirp3_sin  Dirp3_cos  \n",
       "Time (GMT)                                                       \n",
       "2010-01-02 00:00:00  -0.358368  -0.933580  -0.974370   0.224951  \n",
       "2010-01-02 00:30:00  -0.469472  -0.882948  -0.694658   0.719340  \n",
       "2010-01-02 01:00:00  -0.573576  -0.819152  -0.984808   0.173648  \n",
       "2010-01-02 01:30:00  -0.390731  -0.920505  -0.559193   0.829038  \n",
       "2010-01-02 02:00:00  -0.529919  -0.848048  -0.939693   0.342020  \n",
       "\n",
       "[5 rows x 27 columns]"
      ]
     },
     "execution_count": 2016,
     "metadata": {},
     "output_type": "execute_result"
    }
   ],
   "source": [
    "table.head()"
   ]
  },
  {
   "cell_type": "markdown",
   "metadata": {},
   "source": [
    "# 2) Model Variables"
   ]
  },
  {
   "cell_type": "code",
   "execution_count": 318,
   "metadata": {},
   "outputs": [],
   "source": [
    "# target feature order in table [0,2,3,7,9,10,14,16,17]\n",
    "# target_feature = [2]\n",
    "\n",
    "# When target is Dirp[4, 11, 18], feature selection using [4,11,18], \n",
    "#                                 training using [[21,22],[23,24],[25,26]]\n",
    "def get_target(x):\n",
    "    if x == 4:\n",
    "        return [21,22]\n",
    "    if x == 11:\n",
    "        return [23,24]\n",
    "    if x == 18:\n",
    "        return [25,26]\n",
    "    else:\n",
    "        return [x]"
   ]
  },
  {
   "cell_type": "code",
   "execution_count": 319,
   "metadata": {},
   "outputs": [],
   "source": [
    "target_feature_FS = 0 # Define target feature order\n",
    "# target_feature = [target_feature_FS]\n",
    "get_target(target_feature_FS)\n",
    "\n",
    "n_past = 24\n",
    "n_future = 12"
   ]
  },
  {
   "cell_type": "code",
   "execution_count": 320,
   "metadata": {},
   "outputs": [
    {
     "data": {
      "text/plain": [
       "[0]"
      ]
     },
     "execution_count": 320,
     "metadata": {},
     "output_type": "execute_result"
    }
   ],
   "source": [
    "target_feature"
   ]
  },
  {
   "cell_type": "markdown",
   "metadata": {},
   "source": [
    "# 3) Feature Selection (ElasticNetCV)\n",
    "Reasons of choosing ElasticNetCV see the Jupyter Notebook '202105_Feature_Selection_Experiments.ipynb'"
   ]
  },
  {
   "cell_type": "code",
   "execution_count": 321,
   "metadata": {
    "scrolled": true
   },
   "outputs": [
    {
     "data": {
      "text/html": [
       "<div>\n",
       "<style scoped>\n",
       "    .dataframe tbody tr th:only-of-type {\n",
       "        vertical-align: middle;\n",
       "    }\n",
       "\n",
       "    .dataframe tbody tr th {\n",
       "        vertical-align: top;\n",
       "    }\n",
       "\n",
       "    .dataframe thead th {\n",
       "        text-align: right;\n",
       "    }\n",
       "</style>\n",
       "<table border=\"1\" class=\"dataframe\">\n",
       "  <thead>\n",
       "    <tr style=\"text-align: right;\">\n",
       "      <th></th>\n",
       "      <th>1Wave Height (m)</th>\n",
       "      <th>1Max Wave Height (m)</th>\n",
       "      <th>1Tpeak (s)</th>\n",
       "      <th>1Tz (s)</th>\n",
       "      <th>1Peak Direction (degrees)</th>\n",
       "      <th>1Spread (degrees)</th>\n",
       "      <th>1Sea Temp (C)</th>\n",
       "      <th>2Wave Height (m)</th>\n",
       "      <th>2Max Wave Height (m)</th>\n",
       "      <th>2Tpeak (s)</th>\n",
       "      <th>...</th>\n",
       "      <th>2Peak Direction (degrees)</th>\n",
       "      <th>2Spread (degrees)</th>\n",
       "      <th>2Sea Temp (C)</th>\n",
       "      <th>3Wave Height (m)</th>\n",
       "      <th>3Max Wave Height (m)</th>\n",
       "      <th>3Tpeak (s)</th>\n",
       "      <th>3Tz (s)</th>\n",
       "      <th>3Peak Direction (degrees)</th>\n",
       "      <th>3Spread (degrees)</th>\n",
       "      <th>3Sea Temp (C)</th>\n",
       "    </tr>\n",
       "    <tr>\n",
       "      <th>Time (GMT)</th>\n",
       "      <th></th>\n",
       "      <th></th>\n",
       "      <th></th>\n",
       "      <th></th>\n",
       "      <th></th>\n",
       "      <th></th>\n",
       "      <th></th>\n",
       "      <th></th>\n",
       "      <th></th>\n",
       "      <th></th>\n",
       "      <th></th>\n",
       "      <th></th>\n",
       "      <th></th>\n",
       "      <th></th>\n",
       "      <th></th>\n",
       "      <th></th>\n",
       "      <th></th>\n",
       "      <th></th>\n",
       "      <th></th>\n",
       "      <th></th>\n",
       "      <th></th>\n",
       "    </tr>\n",
       "  </thead>\n",
       "  <tbody>\n",
       "    <tr>\n",
       "      <th>2010-01-02 00:00:00</th>\n",
       "      <td>-0.921971</td>\n",
       "      <td>-0.917563</td>\n",
       "      <td>-0.149536</td>\n",
       "      <td>-0.065990</td>\n",
       "      <td>-0.018492</td>\n",
       "      <td>-0.570773</td>\n",
       "      <td>-0.538462</td>\n",
       "      <td>-0.856343</td>\n",
       "      <td>-0.920654</td>\n",
       "      <td>-0.098712</td>\n",
       "      <td>...</td>\n",
       "      <td>0.135737</td>\n",
       "      <td>-0.564951</td>\n",
       "      <td>-0.433347</td>\n",
       "      <td>-0.902305</td>\n",
       "      <td>-0.961046</td>\n",
       "      <td>-0.489270</td>\n",
       "      <td>-0.699633</td>\n",
       "      <td>0.603880</td>\n",
       "      <td>-0.088187</td>\n",
       "      <td>-0.478709</td>\n",
       "    </tr>\n",
       "    <tr>\n",
       "      <th>2010-01-02 01:00:00</th>\n",
       "      <td>-0.924025</td>\n",
       "      <td>-0.916961</td>\n",
       "      <td>-0.040250</td>\n",
       "      <td>0.005076</td>\n",
       "      <td>-0.036347</td>\n",
       "      <td>-0.633106</td>\n",
       "      <td>-0.538462</td>\n",
       "      <td>-0.866697</td>\n",
       "      <td>-0.916936</td>\n",
       "      <td>-0.133047</td>\n",
       "      <td>...</td>\n",
       "      <td>0.160909</td>\n",
       "      <td>-0.577778</td>\n",
       "      <td>-0.438756</td>\n",
       "      <td>-0.898857</td>\n",
       "      <td>-0.966222</td>\n",
       "      <td>-0.527897</td>\n",
       "      <td>-0.684615</td>\n",
       "      <td>0.621844</td>\n",
       "      <td>0.082814</td>\n",
       "      <td>-0.485223</td>\n",
       "    </tr>\n",
       "    <tr>\n",
       "      <th>2010-01-02 02:00:00</th>\n",
       "      <td>-0.926078</td>\n",
       "      <td>-0.919667</td>\n",
       "      <td>-0.149536</td>\n",
       "      <td>0.045685</td>\n",
       "      <td>-0.010839</td>\n",
       "      <td>-0.595706</td>\n",
       "      <td>-0.520710</td>\n",
       "      <td>-0.881489</td>\n",
       "      <td>-0.928090</td>\n",
       "      <td>-0.158798</td>\n",
       "      <td>...</td>\n",
       "      <td>0.177691</td>\n",
       "      <td>-0.577778</td>\n",
       "      <td>-0.438756</td>\n",
       "      <td>-0.888513</td>\n",
       "      <td>-0.956415</td>\n",
       "      <td>-0.266094</td>\n",
       "      <td>-0.677106</td>\n",
       "      <td>0.503797</td>\n",
       "      <td>-0.321369</td>\n",
       "      <td>-0.504765</td>\n",
       "    </tr>\n",
       "    <tr>\n",
       "      <th>2010-01-02 03:00:00</th>\n",
       "      <td>-0.930185</td>\n",
       "      <td>-0.917863</td>\n",
       "      <td>-0.125250</td>\n",
       "      <td>-0.228426</td>\n",
       "      <td>-0.005738</td>\n",
       "      <td>-0.383777</td>\n",
       "      <td>-0.455621</td>\n",
       "      <td>-0.877051</td>\n",
       "      <td>-0.920654</td>\n",
       "      <td>-0.218884</td>\n",
       "      <td>...</td>\n",
       "      <td>0.216849</td>\n",
       "      <td>-0.654743</td>\n",
       "      <td>-0.444165</td>\n",
       "      <td>-0.862077</td>\n",
       "      <td>-0.939526</td>\n",
       "      <td>-0.768240</td>\n",
       "      <td>-0.744688</td>\n",
       "      <td>0.770687</td>\n",
       "      <td>0.207178</td>\n",
       "      <td>-0.511279</td>\n",
       "    </tr>\n",
       "    <tr>\n",
       "      <th>2010-01-02 04:00:00</th>\n",
       "      <td>-0.928131</td>\n",
       "      <td>-0.918164</td>\n",
       "      <td>-0.173822</td>\n",
       "      <td>0.005076</td>\n",
       "      <td>-0.021042</td>\n",
       "      <td>-0.271579</td>\n",
       "      <td>-0.449704</td>\n",
       "      <td>-0.877051</td>\n",
       "      <td>-0.925612</td>\n",
       "      <td>-0.240343</td>\n",
       "      <td>...</td>\n",
       "      <td>0.200067</td>\n",
       "      <td>-0.564951</td>\n",
       "      <td>-0.492845</td>\n",
       "      <td>-0.831045</td>\n",
       "      <td>-0.933261</td>\n",
       "      <td>-0.751073</td>\n",
       "      <td>-0.782234</td>\n",
       "      <td>0.798915</td>\n",
       "      <td>0.300451</td>\n",
       "      <td>-0.472194</td>\n",
       "    </tr>\n",
       "  </tbody>\n",
       "</table>\n",
       "<p>5 rows × 21 columns</p>\n",
       "</div>"
      ],
      "text/plain": [
       "                     1Wave Height (m)  1Max Wave Height (m)  1Tpeak (s)  \\\n",
       "Time (GMT)                                                                \n",
       "2010-01-02 00:00:00         -0.921971             -0.917563   -0.149536   \n",
       "2010-01-02 01:00:00         -0.924025             -0.916961   -0.040250   \n",
       "2010-01-02 02:00:00         -0.926078             -0.919667   -0.149536   \n",
       "2010-01-02 03:00:00         -0.930185             -0.917863   -0.125250   \n",
       "2010-01-02 04:00:00         -0.928131             -0.918164   -0.173822   \n",
       "\n",
       "                      1Tz (s)  1Peak Direction (degrees)  1Spread (degrees)  \\\n",
       "Time (GMT)                                                                    \n",
       "2010-01-02 00:00:00 -0.065990                  -0.018492          -0.570773   \n",
       "2010-01-02 01:00:00  0.005076                  -0.036347          -0.633106   \n",
       "2010-01-02 02:00:00  0.045685                  -0.010839          -0.595706   \n",
       "2010-01-02 03:00:00 -0.228426                  -0.005738          -0.383777   \n",
       "2010-01-02 04:00:00  0.005076                  -0.021042          -0.271579   \n",
       "\n",
       "                     1Sea Temp (C)  2Wave Height (m)  2Max Wave Height (m)  \\\n",
       "Time (GMT)                                                                   \n",
       "2010-01-02 00:00:00      -0.538462         -0.856343             -0.920654   \n",
       "2010-01-02 01:00:00      -0.538462         -0.866697             -0.916936   \n",
       "2010-01-02 02:00:00      -0.520710         -0.881489             -0.928090   \n",
       "2010-01-02 03:00:00      -0.455621         -0.877051             -0.920654   \n",
       "2010-01-02 04:00:00      -0.449704         -0.877051             -0.925612   \n",
       "\n",
       "                     2Tpeak (s)  ...  2Peak Direction (degrees)  \\\n",
       "Time (GMT)                       ...                              \n",
       "2010-01-02 00:00:00   -0.098712  ...                   0.135737   \n",
       "2010-01-02 01:00:00   -0.133047  ...                   0.160909   \n",
       "2010-01-02 02:00:00   -0.158798  ...                   0.177691   \n",
       "2010-01-02 03:00:00   -0.218884  ...                   0.216849   \n",
       "2010-01-02 04:00:00   -0.240343  ...                   0.200067   \n",
       "\n",
       "                     2Spread (degrees)  2Sea Temp (C)  3Wave Height (m)  \\\n",
       "Time (GMT)                                                                \n",
       "2010-01-02 00:00:00          -0.564951      -0.433347         -0.902305   \n",
       "2010-01-02 01:00:00          -0.577778      -0.438756         -0.898857   \n",
       "2010-01-02 02:00:00          -0.577778      -0.438756         -0.888513   \n",
       "2010-01-02 03:00:00          -0.654743      -0.444165         -0.862077   \n",
       "2010-01-02 04:00:00          -0.564951      -0.492845         -0.831045   \n",
       "\n",
       "                     3Max Wave Height (m)  3Tpeak (s)   3Tz (s)  \\\n",
       "Time (GMT)                                                        \n",
       "2010-01-02 00:00:00             -0.961046   -0.489270 -0.699633   \n",
       "2010-01-02 01:00:00             -0.966222   -0.527897 -0.684615   \n",
       "2010-01-02 02:00:00             -0.956415   -0.266094 -0.677106   \n",
       "2010-01-02 03:00:00             -0.939526   -0.768240 -0.744688   \n",
       "2010-01-02 04:00:00             -0.933261   -0.751073 -0.782234   \n",
       "\n",
       "                     3Peak Direction (degrees)  3Spread (degrees)  \\\n",
       "Time (GMT)                                                          \n",
       "2010-01-02 00:00:00                   0.603880          -0.088187   \n",
       "2010-01-02 01:00:00                   0.621844           0.082814   \n",
       "2010-01-02 02:00:00                   0.503797          -0.321369   \n",
       "2010-01-02 03:00:00                   0.770687           0.207178   \n",
       "2010-01-02 04:00:00                   0.798915           0.300451   \n",
       "\n",
       "                     3Sea Temp (C)  \n",
       "Time (GMT)                          \n",
       "2010-01-02 00:00:00      -0.478709  \n",
       "2010-01-02 01:00:00      -0.485223  \n",
       "2010-01-02 02:00:00      -0.504765  \n",
       "2010-01-02 03:00:00      -0.511279  \n",
       "2010-01-02 04:00:00      -0.472194  \n",
       "\n",
       "[5 rows x 21 columns]"
      ]
     },
     "execution_count": 321,
     "metadata": {},
     "output_type": "execute_result"
    }
   ],
   "source": [
    "# Normalization\n",
    "from sklearn.preprocessing import MinMaxScaler\n",
    "table_scale = table.copy()\n",
    "scalers={}\n",
    "for i in table.columns:\n",
    "    scaler = MinMaxScaler(feature_range=(-1,1))\n",
    "    s_s = scaler.fit_transform(table_scale[i].values.reshape(-1,1))\n",
    "    s_s=np.reshape(s_s,len(s_s))\n",
    "    scalers['scaler_'+ i] = scaler\n",
    "    table_scale[i]=s_s\n",
    "table_scale.head()"
   ]
  },
  {
   "cell_type": "code",
   "execution_count": 322,
   "metadata": {},
   "outputs": [],
   "source": [
    "X_FS, y_FS = table_scale.values[:-1*n_future,:21], table_scale.iloc[n_future:,target_feature_FS].values # Scalar table\n",
    "\n",
    "# X_FS, y_FS = table.values[:-1*n_future], table.iloc[n_future:,target_feature].values # Not scalar table\n",
    "# X_FS, y_FS = table_scale.values[:], table_scale.iloc[:,0].values # present\n",
    "# X_FS, y_FS = table.values[:-1*n_future], table.iloc[n_future:,14].values"
   ]
  },
  {
   "cell_type": "code",
   "execution_count": 323,
   "metadata": {},
   "outputs": [],
   "source": [
    "import random\n",
    "def Feature_Selection(X,y):\n",
    "    from sklearn.linear_model import ElasticNetCV\n",
    "    from sklearn.feature_selection import SelectFromModel\n",
    "    ENCV = ElasticNetCV(cv=5, random_state=0,tol=0.0001,selection='random').fit(X,y)\n",
    "    model = SelectFromModel(ENCV, prefit=True)\n",
    "    X_embed = model.transform(X)\n",
    "    list_column_number = []\n",
    "    list_column = []\n",
    "    rn = random.randint(1,len(table))\n",
    "    for i in X_embed[rn]:\n",
    "        for j in range(len(X[rn])):\n",
    "            if i == X[rn][j]:\n",
    "                list_column_number.append(j)\n",
    "                list_column.append(table.columns[j])\n",
    "    # For Dirp\n",
    "    temp = []\n",
    "    for i in list_column_number:\n",
    "        temp.append([i])  #get_target(i)\n",
    "    list_column_number = [item for sublist in temp for item in sublist]\n",
    "    \n",
    "    return list_column_number, list_column"
   ]
  },
  {
   "cell_type": "code",
   "execution_count": 324,
   "metadata": {
    "scrolled": true
   },
   "outputs": [
    {
     "data": {
      "text/plain": [
       "([0, 1], Index(['1Wave Height (m)', '1Max Wave Height (m)'], dtype='object'))"
      ]
     },
     "execution_count": 324,
     "metadata": {},
     "output_type": "execute_result"
    }
   ],
   "source": [
    "FS_order = Feature_Selection(X_FS, y_FS)[0]\n",
    "FS_order, table_scale.columns[FS_order]"
   ]
  },
  {
   "cell_type": "code",
   "execution_count": 18,
   "metadata": {},
   "outputs": [],
   "source": [
    "# temp = []\n",
    "# for i in FS_order:\n",
    "#     temp.append(get_target(i))\n",
    "# FS_order = [item for sublist in temp for item in sublist]\n",
    "# FS_order"
   ]
  },
  {
   "cell_type": "code",
   "execution_count": 276,
   "metadata": {
    "scrolled": true
   },
   "outputs": [
    {
     "data": {
      "text/plain": [
       "array([ 0, 13, 20, 15, 18], dtype=int64)"
      ]
     },
     "execution_count": 276,
     "metadata": {},
     "output_type": "execute_result"
    }
   ],
   "source": [
    "# Ranking of selected features (not sure about the necesssity)\n",
    "from sklearn.linear_model import ElasticNetCV\n",
    "from sklearn.feature_selection import SelectFromModel\n",
    "ENCV = ElasticNetCV(cv=5, tol=0.0001, random_state=0, selection='random').fit(X_FS,y_FS)\n",
    "FS_model = SelectFromModel(ENCV, prefit=True)\n",
    "X_embed = FS_model.transform(X_FS)\n",
    "rn = random.randint(1,len(table))\n",
    "\n",
    "np.array(-np.abs(ENCV.coef_)).argsort()[:len(X_embed[rn])]"
   ]
  },
  {
   "cell_type": "code",
   "execution_count": 2099,
   "metadata": {},
   "outputs": [],
   "source": [
    "# Dirp1 [0, 4, 11, 14, 18] replace to sin & cos\n",
    "# FS_order = [0,21,22,23,24,14,25,26]\n",
    "\n",
    "# Dirp2 [4, 10, 11, 13, 14, 17, 18, 20] replace to sin & cos\n",
    "# FS_order = [21,22,10,23,24,13,14,17,25,26,20]\n",
    "\n",
    "# Dirp3 [7,11,14,18,19] replace to sin & cos\n",
    "# FS_order = [7,23,24,14,25,26,19]"
   ]
  },
  {
   "cell_type": "code",
   "execution_count": 2100,
   "metadata": {},
   "outputs": [],
   "source": [
    "# Originally want to try MultitaskElasticNetCV, but it takes too long.\n",
    "# import random\n",
    "# def Feature_Selection_multi(X,y):\n",
    "#     from sklearn.linear_model import MultiTaskElasticNetCV\n",
    "#     from sklearn.feature_selection import SelectFromModel\n",
    "#     ENCV = MultiTaskElasticNetCV(cv=5, random_state=0,tol=0.0001,selection='random').fit(X,y)\n",
    "#     model = SelectFromModel(ENCV, prefit=True)\n",
    "#     X_embed = model.transform(X)\n",
    "#     list_column_number = []\n",
    "#     list_column = []\n",
    "#     rn = random.randint(1,len(table))\n",
    "#     for i in X_embed[rn]:\n",
    "#         for j in range(len(X[rn])):\n",
    "#             if i == X[rn][j]:\n",
    "#                 list_column_number.append(j)\n",
    "#                 list_column.append(table.columns[j])\n",
    "#     return list_column_number, list_column"
   ]
  },
  {
   "cell_type": "code",
   "execution_count": 2101,
   "metadata": {
    "scrolled": true
   },
   "outputs": [],
   "source": [
    "# FS_order = Feature_Selection_multi(X_FS, y_FS)[0]\n",
    "# FS_order, table_scale.columns[FS_order]"
   ]
  },
  {
   "cell_type": "markdown",
   "metadata": {},
   "source": [
    "# 4) Generate training dataset\n",
    "Currently training on table[:6000], test on table[6000:7200]"
   ]
  },
  {
   "cell_type": "code",
   "execution_count": 325,
   "metadata": {},
   "outputs": [],
   "source": [
    "train_df, test_df = table[:6000],table[6000:7200]\n",
    "# train, test = table[:6000],table[6000:7200] # Not scale\n",
    "# train, test = table_scale.iloc[:6000], table_scale.iloc[6000:7200] # Scale"
   ]
  },
  {
   "cell_type": "code",
   "execution_count": 326,
   "metadata": {},
   "outputs": [],
   "source": [
    "# Scaling the values\n",
    "from sklearn.preprocessing import MinMaxScaler\n",
    "train = train_df.copy()\n",
    "scalers={}\n",
    "for i in train_df.columns:\n",
    "    scaler = MinMaxScaler(feature_range=(-1,1))\n",
    "    s_s = scaler.fit_transform(train[i].values.reshape(-1,1))\n",
    "    s_s=np.reshape(s_s,len(s_s))\n",
    "    scalers['scaler_'+ i] = scaler\n",
    "    train[i]=s_s\n",
    "test = test_df.copy()\n",
    "for i in train_df.columns:\n",
    "    scaler = scalers['scaler_'+i]\n",
    "    s_s = scaler.transform(test[i].values.reshape(-1,1))\n",
    "    s_s=np.reshape(s_s,len(s_s))\n",
    "    scalers['scaler_'+i] = scaler\n",
    "    test[i]=s_s"
   ]
  },
  {
   "cell_type": "code",
   "execution_count": 327,
   "metadata": {},
   "outputs": [],
   "source": [
    "def split_series(series, n_past, n_future):\n",
    "    X, y = list(), list()\n",
    "    for window_start in range(len(series)):\n",
    "        past_end = window_start + n_past\n",
    "        future_end = past_end + n_future\n",
    "        if future_end > len(series):\n",
    "            break\n",
    "    # slicing the past and future parts of the window\n",
    "        past, future = series[window_start:past_end], series[past_end:future_end]\n",
    "        X.append(past)\n",
    "        y.append(future)\n",
    "    return np.array(X), np.array(y)"
   ]
  },
  {
   "cell_type": "code",
   "execution_count": 328,
   "metadata": {},
   "outputs": [],
   "source": [
    "# Seperate Train-Test - Multi features\n",
    "X_train, y_train = split_series(train.values,n_past, n_future)\n",
    "X_test, y_test = split_series(test.values,n_past, n_future)"
   ]
  },
  {
   "cell_type": "code",
   "execution_count": 2130,
   "metadata": {},
   "outputs": [],
   "source": [
    "# Seperate Train-Test - 1 feature\n",
    "# X_train, y_train = split_series_1feature(train.values,n_past, n_future)\n",
    "# X_test, y_test = split_series_1feature(test.values,n_past, n_future)"
   ]
  },
  {
   "cell_type": "markdown",
   "metadata": {},
   "source": [
    "# 5) Generate Model"
   ]
  },
  {
   "cell_type": "code",
   "execution_count": 2107,
   "metadata": {},
   "outputs": [],
   "source": [
    "# Self to self prediction, e.g. buoy1 1Hs-to-1Hs (1-1)\n",
    "# train the model\n",
    "def build_model_LSTM_1_1buoy(train, n_past, n_future, FS_order):\n",
    "    # prepare data\n",
    "    train_x, train_y = split_series(train.values, n_past, n_future)\n",
    "    train_x = train_x[:,:,FS_order]\n",
    "    train_y = train_y[:,:,target_feature]\n",
    "    train_x = train_x.reshape(train_x.shape[0],train_x.shape[1],1)\n",
    "    train_y = train_y.reshape(train_y.shape[0],train_y.shape[1],1)\n",
    "#     train_y = train_y[:,:,0]\n",
    "    # define parameters\n",
    "    verbose, epochs, batch_size = 0, 25, 16\n",
    "    n_features_input = 1\n",
    "    n_features_output = 1\n",
    "    # define model\n",
    "    model = Sequential()\n",
    "    model.add(LSTM(200, activation='relu', input_shape=(n_past, n_features_input)))\n",
    "    model.add(RepeatVector(n_future))\n",
    "    model.add(LSTM(200, activation='relu', return_sequences=True))\n",
    "    model.add(TimeDistributed(Dense(100, activation='relu')))\n",
    "    model.add(TimeDistributed(Dense(n_features_output)))\n",
    "    \n",
    "#     reduce_lr = tf.keras.callbacks.LearningRateScheduler(lambda x: 1e-3 * 0.09 ** x)\n",
    "#     model.compile(loss='mean_absolute_percentage_error', optimizer='adam') # learning_rate=1e-3, decay_rate=0.9\n",
    "    model.compile(loss='mse', optimizer='adam') # learning_rate=1e-3, decay_rate=0.9\n",
    "#     # fit network\n",
    "    history = model.fit(train_x, train_y, epochs=epochs, batch_size=batch_size, \n",
    "              verbose=verbose, validation_split=0.2)\n",
    "    \n",
    "    return model, history"
   ]
  },
  {
   "cell_type": "code",
   "execution_count": 236,
   "metadata": {},
   "outputs": [],
   "source": [
    "# all-to-1 (7-1)/(21-1), e.g. all variable to 1Hs\n",
    "# train the model\n",
    "def build_model_LSTM_1buoy(train, n_past, n_future, FS_order):\n",
    "    # prepare data\n",
    "    train_x, train_y = split_series(train.values, n_past, n_future)\n",
    "    train_y = train_y[:,:,target_feature]\n",
    "    # define parameters\n",
    "    verbose, epochs, batch_size = 0, 25, 16\n",
    "    n_features_input = train_x.shape[2]\n",
    "    n_features_output = train_y.shape[2]\n",
    "    # define model\n",
    "    model = Sequential()\n",
    "    model.add(LSTM(200, activation='relu', input_shape=(n_past, n_features_input)))\n",
    "    model.add(RepeatVector(n_future))\n",
    "    model.add(LSTM(200, activation='relu', return_sequences=True))\n",
    "    model.add(TimeDistributed(Dense(100, activation='relu')))\n",
    "    model.add(TimeDistributed(Dense(n_features_output)))\n",
    "    \n",
    "    reduce_lr = tf.keras.callbacks.LearningRateScheduler(lambda x: 1e-3 * 0.09 ** x)\n",
    "#     model.compile(loss='mean_absolute_percentage_error', optimizer='adam') # learning_rate=1e-3, decay_rate=0.9\n",
    "    model.compile(loss='mse', optimizer='adam') # learning_rate=1e-3, decay_rate=0.9\n",
    "#     # fit network\n",
    "    history = model.fit(train_x, train_y, epochs=epochs, batch_size=batch_size, \n",
    "              verbose=verbose, callbacks=[reduce_lr], validation_split=0.2)\n",
    "    \n",
    "    return model, history"
   ]
  },
  {
   "cell_type": "code",
   "execution_count": 353,
   "metadata": {},
   "outputs": [],
   "source": [
    "# Variables after feature selection - to - target_feature\n",
    "# train the model\n",
    "def build_model_LSTM_FS_1buoy(train, n_past, n_future, FS_order):\n",
    "    # prepare data\n",
    "    train_x, train_y = split_series(train.values, n_past, n_future)\n",
    "    train_x = train_x[:,:,FS_order]\n",
    "    train_y = train_y[:,:,target_feature]\n",
    "    # define parameters\n",
    "    verbose, epochs, batch_size = 0, 25, 16\n",
    "    n_features_input = train_x.shape[2] # i.e. FS_order\n",
    "    n_features_output = train_y.shape[2] # i.e. target_feature\n",
    "    # define model\n",
    "    model = Sequential()\n",
    "    model.add(LSTM(200, activation='relu', input_shape=(n_past, n_features_input)))\n",
    "    model.add(RepeatVector(n_future))\n",
    "    model.add(LSTM(200, activation='relu', return_sequences=True))\n",
    "    model.add(TimeDistributed(Dense(100, activation='relu')))\n",
    "    model.add(TimeDistributed(Dense(n_features_output)))\n",
    "    \n",
    "    reduce_lr = tf.keras.callbacks.LearningRateScheduler(lambda x: 1e-3 * 0.09 ** x)\n",
    "#     model.compile(loss='mean_absolute_percentage_error', optimizer='adam') # learning_rate=1e-3, decay_rate=0.9\n",
    "    model.compile(loss='mse', optimizer='adam') # learning_rate=1e-3, decay_rate=0.9\n",
    "#     # fit network\n",
    "    history = model.fit(train_x, train_y, epochs=epochs, batch_size=batch_size, \n",
    "              verbose=verbose, callbacks=[reduce_lr], validation_split=0.2)\n",
    "    \n",
    "    return model, history"
   ]
  },
  {
   "cell_type": "code",
   "execution_count": 1492,
   "metadata": {
    "scrolled": true
   },
   "outputs": [],
   "source": [
    "# train_x, train_y = split_series(train.values, n_past, n_future, FS_order)\n",
    "# train_x = train_x[:,:,FS_order]\n",
    "# train_y = train_y[:,:,target_feature]"
   ]
  },
  {
   "cell_type": "code",
   "execution_count": 1493,
   "metadata": {},
   "outputs": [],
   "source": [
    "# train_x.shape\n",
    "# train_y.shape"
   ]
  },
  {
   "cell_type": "code",
   "execution_count": 2032,
   "metadata": {},
   "outputs": [],
   "source": [
    "# FS-to-Hs (7-1)/(21-1)\n",
    "# train the model\n",
    "def build_model_LSTM_FS_Dirp(train, n_past, n_future, FS_order):\n",
    "    # prepare data\n",
    "    train_x, train_y = split_series(train.values, n_past, n_future)\n",
    "    train_x = train_x[:,:,FS_order]\n",
    "    train_y = train_y[:,:,target_feature]\n",
    "    # define parameters\n",
    "    verbose, epochs, batch_size = 0, 25, 16\n",
    "    n_features_input = train_x.shape[2]  # i.e. FS_order\n",
    "    n_features_output = train_y.shape[2] # i.e. target_feature\n",
    "    # define model\n",
    "    model = Sequential()\n",
    "    model.add(LSTM(200, activation='relu', input_shape=(n_past, n_features_input)))\n",
    "    model.add(RepeatVector(n_future))\n",
    "    model.add(LSTM(200, activation='relu', return_sequences=True))\n",
    "    model.add(TimeDistributed(Dense(100, activation='relu')))\n",
    "    model.add(TimeDistributed(Dense(n_features_output)))\n",
    "    \n",
    "    reduce_lr = tf.keras.callbacks.LearningRateScheduler(lambda x: 1e-3 * 0.09 ** x)\n",
    "#     model.compile(loss='mean_absolute_percentage_error', optimizer='adam') # learning_rate=1e-3, decay_rate=0.9\n",
    "    model.compile(loss='mse', optimizer='adam') # learning_rate=1e-3, decay_rate=0.9\n",
    "#     # fit network\n",
    "    history = model.fit(train_x, train_y, epochs=epochs, batch_size=batch_size, \n",
    "              verbose=verbose, callbacks=[reduce_lr], validation_split=0.2)\n",
    "    \n",
    "    return model, history"
   ]
  },
  {
   "cell_type": "code",
   "execution_count": 1990,
   "metadata": {},
   "outputs": [],
   "source": [
    "def build_model_StackedLSTM_FS_1buoy(train, n_past, n_future, FS_order):\n",
    "    # prepare data\n",
    "    train_x, train_y = split_series(train.values, n_past, n_future)\n",
    "    train_x = train_x[:, :, FS_order]\n",
    "    train_y = train_y[:, :, target_feature]\n",
    "    # define parameters\n",
    "    verbose, epochs, batch_size = 0, 25, 16\n",
    "    n_features_input = train_x.shape[2]\n",
    "    n_features_output = train_y.shape[2]\n",
    "    #     n_features = train_x.shape[2]\n",
    "    # define model\n",
    "    encoder_inputs = Input(shape=(n_past, n_features_input))\n",
    "    encoder_l1 = LSTM(200, return_state=True)\n",
    "    encoder_outputs1 = encoder_l1(encoder_inputs)\n",
    "    encoder_states1 = encoder_outputs1[1:]\n",
    "    #\n",
    "    decoder_inputs = RepeatVector(n_future)(encoder_outputs1[0])\n",
    "    #\n",
    "    decoder_l1 = LSTM(200, return_sequences=True)(decoder_inputs, initial_state=encoder_states1)\n",
    "    decoder_l1 = TimeDistributed(tf.keras.layers.Dense(100))(decoder_l1)\n",
    "    decoder_outputs1 = TimeDistributed(tf.keras.layers.Dense(n_features_output))(decoder_l1)\n",
    "    #\n",
    "    model = tf.keras.models.Model(encoder_inputs, decoder_outputs1)\n",
    "\n",
    "    reduce_lr = tf.keras.callbacks.LearningRateScheduler(lambda x: 1e-3 * 0.09 ** x)\n",
    "    model.compile(loss='mse', optimizer='adam')  # learning_rate=1e-3, decay_rate=0.9\n",
    "    #     # fit network\n",
    "    history = model.fit(train_x, train_y, epochs=epochs, batch_size=batch_size,\n",
    "              verbose=verbose, callbacks=[reduce_lr], validation_split=0.2)\n",
    "\n",
    "    return model, history"
   ]
  },
  {
   "cell_type": "code",
   "execution_count": 1995,
   "metadata": {},
   "outputs": [],
   "source": [
    "# train the model\n",
    "def build_model_2StackedLSTM(train, n_past, n_future, FS_order):\n",
    "    # prepare data\n",
    "    train_x, train_y = split_series(train.values, n_past, n_future)\n",
    "    # define parameters\n",
    "    train_x = train_x[:, :, FS_order]\n",
    "    train_y = train_y[:, :, target_feature]\n",
    "    # define parameters\n",
    "    verbose, epochs, batch_size = 0, 25, 16\n",
    "    n_features_input = train_x.shape[2]\n",
    "    n_features_output = train_y.shape[2]\n",
    "    # define model\n",
    "    encoder_inputs = tf.keras.layers.Input(shape=(n_past, n_features_input))\n",
    "    encoder_l1 = tf.keras.layers.LSTM(200,return_sequences = True, return_state=True)\n",
    "    encoder_outputs1 = encoder_l1(encoder_inputs)\n",
    "    encoder_states1 = encoder_outputs1[1:]\n",
    "    encoder_l2 = tf.keras.layers.LSTM(200, return_state=True)\n",
    "    encoder_outputs2 = encoder_l2(encoder_outputs1[0])\n",
    "    encoder_states2 = encoder_outputs2[1:]\n",
    "    #\n",
    "    decoder_inputs = tf.keras.layers.RepeatVector(n_future)(encoder_outputs2[0])\n",
    "    #\n",
    "    decoder_l1 = tf.keras.layers.LSTM(200, return_sequences=True)(decoder_inputs,initial_state = encoder_states1)\n",
    "    decoder_l2 = tf.keras.layers.LSTM(200, return_sequences=True)(decoder_l1,initial_state = encoder_states2)\n",
    "    decoder_l2 = tf.keras.layers.TimeDistributed(tf.keras.layers.Dense(100))(decoder_l2)\n",
    "    decoder_outputs2 = tf.keras.layers.TimeDistributed(tf.keras.layers.Dense(n_features_output))(decoder_l2)\n",
    "\n",
    "    #\n",
    "    model = tf.keras.models.Model(encoder_inputs,decoder_outputs2)\n",
    "\n",
    "    reduce_lr = tf.keras.callbacks.LearningRateScheduler(lambda x: 1e-3 * 0.09 ** x)\n",
    "    model.compile(loss='mse', optimizer='adam') # learning_rate=1e-3, decay_rate=0.9\n",
    "#     # fit network\n",
    "    history = model.fit(train_x, train_y, epochs=epochs, batch_size=batch_size, \n",
    "              verbose=verbose, callbacks=[reduce_lr], validation_split=0.2)\n",
    "    \n",
    "    return model, history"
   ]
  },
  {
   "cell_type": "code",
   "execution_count": 187,
   "metadata": {},
   "outputs": [],
   "source": [
    "# All-to-3Hs (21-3)\n",
    "# train the model\n",
    "def build_model_LSTM_3buoys(train, n_past, n_future):\n",
    "    # prepare data\n",
    "    train_x, train_y = split_series(train.values, n_past, n_future)\n",
    "    train_y = train_y[:,:,[0,7,14]]\n",
    "    # define parameters\n",
    "    verbose, epochs, batch_size = 0, 25, 16\n",
    "    n_features_input = train_x.shape[2]\n",
    "    n_features_output = 3\n",
    "    # define model\n",
    "    model = Sequential()\n",
    "    model.add(LSTM(200, activation='relu', input_shape=(n_past, n_features_input)))\n",
    "    model.add(RepeatVector(n_future))\n",
    "    model.add(LSTM(200, activation='relu', return_sequences=True))\n",
    "    model.add(TimeDistributed(Dense(100, activation='relu')))\n",
    "    model.add(TimeDistributed(Dense(n_features_output)))\n",
    "    \n",
    "    reduce_lr = tf.keras.callbacks.LearningRateScheduler(lambda x: 1e-3 * 0.09 ** x)\n",
    "#     model.compile(loss='mean_absolute_percentage_error', optimizer='adam') # learning_rate=1e-3, decay_rate=0.9\n",
    "    model.compile(loss='mse', optimizer='adam') # learning_rate=1e-3, decay_rate=0.9\n",
    "#     # fit network\n",
    "    history = model.fit(train_x, train_y, epochs=epochs, batch_size=batch_size, \n",
    "              verbose=verbose, callbacks=[reduce_lr], validation_split=0.2)\n",
    "    \n",
    "    return model, history"
   ]
  },
  {
   "cell_type": "markdown",
   "metadata": {},
   "source": [
    "# LSTM consering ERA5 array wind\n",
    "Using AutoEncoder to realize dimensionality reduction: 5x5x2 => 5"
   ]
  },
  {
   "cell_type": "code",
   "execution_count": 348,
   "metadata": {},
   "outputs": [],
   "source": [
    "ERA5_array = load('Combined_ERA5').iloc[600:-600,:]"
   ]
  },
  {
   "cell_type": "code",
   "execution_count": 349,
   "metadata": {
    "scrolled": false
   },
   "outputs": [
    {
     "data": {
      "text/html": [
       "<div>\n",
       "<style scoped>\n",
       "    .dataframe tbody tr th:only-of-type {\n",
       "        vertical-align: middle;\n",
       "    }\n",
       "\n",
       "    .dataframe tbody tr th {\n",
       "        vertical-align: top;\n",
       "    }\n",
       "\n",
       "    .dataframe thead th {\n",
       "        text-align: right;\n",
       "    }\n",
       "</style>\n",
       "<table border=\"1\" class=\"dataframe\">\n",
       "  <thead>\n",
       "    <tr style=\"text-align: right;\">\n",
       "      <th></th>\n",
       "      <th>time</th>\n",
       "      <th>longitude</th>\n",
       "      <th>latitude</th>\n",
       "      <th>u10</th>\n",
       "      <th>v10</th>\n",
       "      <th>mwd</th>\n",
       "      <th>mwp</th>\n",
       "      <th>pp1d</th>\n",
       "      <th>swh</th>\n",
       "      <th>shts</th>\n",
       "      <th>shww</th>\n",
       "    </tr>\n",
       "  </thead>\n",
       "  <tbody>\n",
       "    <tr>\n",
       "      <th>2010-01-02 00:00:00</th>\n",
       "      <td>964272.0</td>\n",
       "      <td>-7.0</td>\n",
       "      <td>49.0</td>\n",
       "      <td>-2.205463</td>\n",
       "      <td>-0.652127</td>\n",
       "      <td>294.098093</td>\n",
       "      <td>8.859632</td>\n",
       "      <td>8.985604</td>\n",
       "      <td>1.563758</td>\n",
       "      <td>1.563695</td>\n",
       "      <td>0.000000</td>\n",
       "    </tr>\n",
       "    <tr>\n",
       "      <th>2010-01-02 00:00:00</th>\n",
       "      <td>964272.0</td>\n",
       "      <td>-7.0</td>\n",
       "      <td>49.5</td>\n",
       "      <td>-1.606940</td>\n",
       "      <td>-0.844573</td>\n",
       "      <td>276.403646</td>\n",
       "      <td>8.999586</td>\n",
       "      <td>15.995114</td>\n",
       "      <td>1.427992</td>\n",
       "      <td>1.428071</td>\n",
       "      <td>0.000000</td>\n",
       "    </tr>\n",
       "    <tr>\n",
       "      <th>2010-01-02 00:00:00</th>\n",
       "      <td>964272.0</td>\n",
       "      <td>-7.0</td>\n",
       "      <td>50.0</td>\n",
       "      <td>-0.243638</td>\n",
       "      <td>-1.295022</td>\n",
       "      <td>261.670177</td>\n",
       "      <td>9.373808</td>\n",
       "      <td>16.027293</td>\n",
       "      <td>1.246037</td>\n",
       "      <td>1.245983</td>\n",
       "      <td>0.000000</td>\n",
       "    </tr>\n",
       "    <tr>\n",
       "      <th>2010-01-02 00:00:00</th>\n",
       "      <td>964272.0</td>\n",
       "      <td>-7.0</td>\n",
       "      <td>50.5</td>\n",
       "      <td>0.428314</td>\n",
       "      <td>-2.592797</td>\n",
       "      <td>260.615432</td>\n",
       "      <td>9.371861</td>\n",
       "      <td>15.971958</td>\n",
       "      <td>1.165732</td>\n",
       "      <td>1.157200</td>\n",
       "      <td>0.098211</td>\n",
       "    </tr>\n",
       "    <tr>\n",
       "      <th>2010-01-02 00:00:00</th>\n",
       "      <td>964272.0</td>\n",
       "      <td>-7.0</td>\n",
       "      <td>51.0</td>\n",
       "      <td>0.871664</td>\n",
       "      <td>-4.616649</td>\n",
       "      <td>272.228614</td>\n",
       "      <td>8.712971</td>\n",
       "      <td>15.890459</td>\n",
       "      <td>1.152785</td>\n",
       "      <td>1.080974</td>\n",
       "      <td>0.359170</td>\n",
       "    </tr>\n",
       "    <tr>\n",
       "      <th>...</th>\n",
       "      <td>...</td>\n",
       "      <td>...</td>\n",
       "      <td>...</td>\n",
       "      <td>...</td>\n",
       "      <td>...</td>\n",
       "      <td>...</td>\n",
       "      <td>...</td>\n",
       "      <td>...</td>\n",
       "      <td>...</td>\n",
       "      <td>...</td>\n",
       "      <td>...</td>\n",
       "    </tr>\n",
       "    <tr>\n",
       "      <th>2019-12-30 23:00:00</th>\n",
       "      <td>1051871.0</td>\n",
       "      <td>-5.0</td>\n",
       "      <td>49.0</td>\n",
       "      <td>0.105227</td>\n",
       "      <td>6.697018</td>\n",
       "      <td>248.007141</td>\n",
       "      <td>8.858961</td>\n",
       "      <td>11.268963</td>\n",
       "      <td>1.801166</td>\n",
       "      <td>1.696096</td>\n",
       "      <td>0.605035</td>\n",
       "    </tr>\n",
       "    <tr>\n",
       "      <th>2019-12-30 23:00:00</th>\n",
       "      <td>1051871.0</td>\n",
       "      <td>-5.0</td>\n",
       "      <td>49.5</td>\n",
       "      <td>-0.291652</td>\n",
       "      <td>5.764833</td>\n",
       "      <td>246.243745</td>\n",
       "      <td>8.922678</td>\n",
       "      <td>11.185940</td>\n",
       "      <td>1.792687</td>\n",
       "      <td>1.742672</td>\n",
       "      <td>0.414159</td>\n",
       "    </tr>\n",
       "    <tr>\n",
       "      <th>2019-12-30 23:00:00</th>\n",
       "      <td>1051871.0</td>\n",
       "      <td>-5.0</td>\n",
       "      <td>50.0</td>\n",
       "      <td>-1.178505</td>\n",
       "      <td>3.445044</td>\n",
       "      <td>232.724374</td>\n",
       "      <td>8.005294</td>\n",
       "      <td>11.085423</td>\n",
       "      <td>1.229496</td>\n",
       "      <td>1.223094</td>\n",
       "      <td>0.111641</td>\n",
       "    </tr>\n",
       "    <tr>\n",
       "      <th>2019-12-30 23:00:00</th>\n",
       "      <td>1051871.0</td>\n",
       "      <td>-5.0</td>\n",
       "      <td>50.5</td>\n",
       "      <td>-2.085657</td>\n",
       "      <td>2.301517</td>\n",
       "      <td>253.797234</td>\n",
       "      <td>9.069751</td>\n",
       "      <td>11.193649</td>\n",
       "      <td>1.223974</td>\n",
       "      <td>1.221779</td>\n",
       "      <td>0.029837</td>\n",
       "    </tr>\n",
       "    <tr>\n",
       "      <th>2019-12-30 23:00:00</th>\n",
       "      <td>1051871.0</td>\n",
       "      <td>-5.0</td>\n",
       "      <td>51.0</td>\n",
       "      <td>-2.532934</td>\n",
       "      <td>3.468527</td>\n",
       "      <td>248.259840</td>\n",
       "      <td>9.135295</td>\n",
       "      <td>11.106179</td>\n",
       "      <td>1.481315</td>\n",
       "      <td>1.469792</td>\n",
       "      <td>0.178823</td>\n",
       "    </tr>\n",
       "  </tbody>\n",
       "</table>\n",
       "<p>2190000 rows × 11 columns</p>\n",
       "</div>"
      ],
      "text/plain": [
       "                          time  longitude  latitude       u10       v10  \\\n",
       "2010-01-02 00:00:00   964272.0       -7.0      49.0 -2.205463 -0.652127   \n",
       "2010-01-02 00:00:00   964272.0       -7.0      49.5 -1.606940 -0.844573   \n",
       "2010-01-02 00:00:00   964272.0       -7.0      50.0 -0.243638 -1.295022   \n",
       "2010-01-02 00:00:00   964272.0       -7.0      50.5  0.428314 -2.592797   \n",
       "2010-01-02 00:00:00   964272.0       -7.0      51.0  0.871664 -4.616649   \n",
       "...                        ...        ...       ...       ...       ...   \n",
       "2019-12-30 23:00:00  1051871.0       -5.0      49.0  0.105227  6.697018   \n",
       "2019-12-30 23:00:00  1051871.0       -5.0      49.5 -0.291652  5.764833   \n",
       "2019-12-30 23:00:00  1051871.0       -5.0      50.0 -1.178505  3.445044   \n",
       "2019-12-30 23:00:00  1051871.0       -5.0      50.5 -2.085657  2.301517   \n",
       "2019-12-30 23:00:00  1051871.0       -5.0      51.0 -2.532934  3.468527   \n",
       "\n",
       "                            mwd       mwp       pp1d       swh      shts  \\\n",
       "2010-01-02 00:00:00  294.098093  8.859632   8.985604  1.563758  1.563695   \n",
       "2010-01-02 00:00:00  276.403646  8.999586  15.995114  1.427992  1.428071   \n",
       "2010-01-02 00:00:00  261.670177  9.373808  16.027293  1.246037  1.245983   \n",
       "2010-01-02 00:00:00  260.615432  9.371861  15.971958  1.165732  1.157200   \n",
       "2010-01-02 00:00:00  272.228614  8.712971  15.890459  1.152785  1.080974   \n",
       "...                         ...       ...        ...       ...       ...   \n",
       "2019-12-30 23:00:00  248.007141  8.858961  11.268963  1.801166  1.696096   \n",
       "2019-12-30 23:00:00  246.243745  8.922678  11.185940  1.792687  1.742672   \n",
       "2019-12-30 23:00:00  232.724374  8.005294  11.085423  1.229496  1.223094   \n",
       "2019-12-30 23:00:00  253.797234  9.069751  11.193649  1.223974  1.221779   \n",
       "2019-12-30 23:00:00  248.259840  9.135295  11.106179  1.481315  1.469792   \n",
       "\n",
       "                         shww  \n",
       "2010-01-02 00:00:00  0.000000  \n",
       "2010-01-02 00:00:00  0.000000  \n",
       "2010-01-02 00:00:00  0.000000  \n",
       "2010-01-02 00:00:00  0.098211  \n",
       "2010-01-02 00:00:00  0.359170  \n",
       "...                       ...  \n",
       "2019-12-30 23:00:00  0.605035  \n",
       "2019-12-30 23:00:00  0.414159  \n",
       "2019-12-30 23:00:00  0.111641  \n",
       "2019-12-30 23:00:00  0.029837  \n",
       "2019-12-30 23:00:00  0.178823  \n",
       "\n",
       "[2190000 rows x 11 columns]"
      ]
     },
     "execution_count": 349,
     "metadata": {},
     "output_type": "execute_result"
    }
   ],
   "source": [
    "ERA5_array"
   ]
  },
  {
   "cell_type": "code",
   "execution_count": 350,
   "metadata": {},
   "outputs": [
    {
     "name": "stdout",
     "output_type": "stream",
     "text": [
      "Mean Wind Speed| 7.738523619436952\n",
      "Grid Distance| 55612.12052614229\n",
      "Spread hour| 1.9962220207561652\n"
     ]
    }
   ],
   "source": [
    "Vmwind = np.sqrt(ERA5_array['u10']**2 + ERA5_array['v10']**2).describe()['mean']\n",
    "print('Mean Wind Speed|', Vmwind)\n",
    "\n",
    "from geopy.distance import geodesic\n",
    "distance = geodesic((49.5, -5.5),(49.5, -6)).km * 1000\n",
    "distance = geodesic((49.5, -5.5),(50, -5.5)).km * 1000\n",
    "print('Grid Distance|',distance)\n",
    "print('Spread hour|',distance/Vmwind/3600)"
   ]
  },
  {
   "cell_type": "code",
   "execution_count": 28,
   "metadata": {},
   "outputs": [],
   "source": [
    "a = ERA5_array.iloc[:,3:5]"
   ]
  },
  {
   "cell_type": "code",
   "execution_count": 29,
   "metadata": {},
   "outputs": [
    {
     "data": {
      "text/plain": [
       "(87600, 50)"
      ]
     },
     "execution_count": 29,
     "metadata": {},
     "output_type": "execute_result"
    }
   ],
   "source": [
    "b = a.values.reshape(len(a.index.unique()),-1)\n",
    "b.shape"
   ]
  },
  {
   "cell_type": "code",
   "execution_count": 30,
   "metadata": {},
   "outputs": [],
   "source": [
    "import torch\n",
    "import torch.nn as nn\n",
    "from torch.autograd import Variable\n",
    "import torch.utils.data as Data\n",
    "import torchvision\n",
    "\n",
    "torch.manual_seed(1)\n",
    "# Hyper Parameters\n",
    "EPOCH = 10\n",
    "BATCH_SIZE = 64\n",
    "LR = 0.005         # learning rate\n",
    "DOWNLOAD_MNIST = True\n",
    "N_TEST_IMG = 1200"
   ]
  },
  {
   "cell_type": "code",
   "execution_count": 31,
   "metadata": {},
   "outputs": [
    {
     "data": {
      "text/plain": [
       "torch.Size([87600, 50])"
      ]
     },
     "execution_count": 31,
     "metadata": {},
     "output_type": "execute_result"
    }
   ],
   "source": [
    "train_data_ERA5 = torch.from_numpy(b).float()\n",
    "train_data_ERA5.size()"
   ]
  },
  {
   "cell_type": "code",
   "execution_count": 32,
   "metadata": {},
   "outputs": [],
   "source": [
    "train_loader = Data.DataLoader(dataset=train_data_ERA5, batch_size=BATCH_SIZE, shuffle=True)"
   ]
  },
  {
   "cell_type": "code",
   "execution_count": 33,
   "metadata": {},
   "outputs": [],
   "source": [
    "class AutoEncoder(nn.Module):\n",
    "    def __init__(self):\n",
    "        super(AutoEncoder, self).__init__()\n",
    "\n",
    "        self.encoder = nn.Sequential(\n",
    "            nn.Linear(5*5*2, 512),\n",
    "            nn.ReLU(),\n",
    "            nn.Linear(512,128),\n",
    "            nn.ReLU(),\n",
    "            nn.Linear(128, 64),\n",
    "            nn.ReLU(),\n",
    "            nn.Linear(64, 12),\n",
    "            nn.ReLU(),\n",
    "            nn.Linear(12, 5),   # compress to 3 features which can be visualized in plt\n",
    "        )\n",
    "        self.decoder = nn.Sequential(\n",
    "            nn.Linear(5, 12),\n",
    "            nn.ReLU(),\n",
    "            nn.Linear(12, 64),\n",
    "            nn.ReLU(),\n",
    "            nn.Linear(64, 128),\n",
    "            nn.ReLU(),\n",
    "            nn.Linear(128, 512),\n",
    "            nn.ReLU(),\n",
    "            nn.Linear(512, 5*5*2),\n",
    "#             nn.Sigmoid(),       # compress to a range (0, 1)\n",
    "        )\n",
    "\n",
    "    def forward(self, x):\n",
    "        encoded = self.encoder(x)\n",
    "        decoded = self.decoder(encoded)\n",
    "        return encoded, decoded"
   ]
  },
  {
   "cell_type": "code",
   "execution_count": 34,
   "metadata": {},
   "outputs": [],
   "source": [
    "autoencoder = AutoEncoder()\n",
    "\n",
    "optimizer = torch.optim.Adam(autoencoder.parameters(), lr=LR)\n",
    "loss_func = nn.MSELoss()\n",
    "\n",
    "view_data = Variable(train_data_ERA5[:N_TEST_IMG].view(-1, 50).type(torch.FloatTensor))"
   ]
  },
  {
   "cell_type": "code",
   "execution_count": 35,
   "metadata": {
    "scrolled": true
   },
   "outputs": [
    {
     "name": "stdout",
     "output_type": "stream",
     "text": [
      "Epoch:  0 | train loss: 33.0385\n",
      "Epoch:  0 | train loss: 15.8297\n",
      "Epoch:  0 | train loss: 11.3987\n",
      "Epoch:  0 | train loss: 2.1848\n",
      "Epoch:  0 | train loss: 1.7132\n",
      "Epoch:  0 | train loss: 1.8902\n",
      "Epoch:  0 | train loss: 1.8177\n",
      "Epoch:  0 | train loss: 1.7750\n",
      "Epoch:  0 | train loss: 1.9994\n",
      "Epoch:  0 | train loss: 3.0339\n",
      "Epoch:  0 | train loss: 1.7031\n",
      "Epoch:  0 | train loss: 2.1404\n",
      "Epoch:  0 | train loss: 1.9046\n",
      "Epoch:  0 | train loss: 2.2119\n",
      "Epoch:  0 | train loss: 1.5929\n",
      "Epoch:  0 | train loss: 2.3379\n",
      "Epoch:  0 | train loss: 2.0713\n",
      "Epoch:  0 | train loss: 2.2651\n",
      "Epoch:  0 | train loss: 1.6579\n",
      "Epoch:  0 | train loss: 1.8478\n",
      "Epoch:  0 | train loss: 2.1721\n",
      "Epoch:  0 | train loss: 2.3440\n",
      "Epoch:  0 | train loss: 1.4780\n",
      "Epoch:  0 | train loss: 1.4461\n",
      "Epoch:  0 | train loss: 2.6281\n",
      "Epoch:  0 | train loss: 2.3205\n",
      "Epoch:  0 | train loss: 1.8263\n",
      "Epoch:  0 | train loss: 2.4066\n",
      "Epoch:  5 | train loss: 1.0243\n",
      "Epoch:  5 | train loss: 0.8260\n",
      "Epoch:  5 | train loss: 0.6924\n",
      "Epoch:  5 | train loss: 0.7093\n",
      "Epoch:  5 | train loss: 0.7149\n",
      "Epoch:  5 | train loss: 0.7554\n",
      "Epoch:  5 | train loss: 0.7170\n",
      "Epoch:  5 | train loss: 0.5776\n",
      "Epoch:  5 | train loss: 0.8263\n",
      "Epoch:  5 | train loss: 0.9015\n",
      "Epoch:  5 | train loss: 0.9355\n",
      "Epoch:  5 | train loss: 0.9632\n",
      "Epoch:  5 | train loss: 0.8359\n",
      "Epoch:  5 | train loss: 0.6941\n",
      "Epoch:  5 | train loss: 0.6359\n",
      "Epoch:  5 | train loss: 0.5745\n",
      "Epoch:  5 | train loss: 0.8498\n",
      "Epoch:  5 | train loss: 0.6838\n",
      "Epoch:  5 | train loss: 0.7497\n",
      "Epoch:  5 | train loss: 0.7135\n",
      "Epoch:  5 | train loss: 1.0855\n",
      "Epoch:  5 | train loss: 0.6653\n",
      "Epoch:  5 | train loss: 0.7643\n",
      "Epoch:  5 | train loss: 0.9358\n",
      "Epoch:  5 | train loss: 0.7015\n",
      "Epoch:  5 | train loss: 1.0881\n",
      "Epoch:  5 | train loss: 0.7842\n",
      "Epoch:  5 | train loss: 0.8782\n",
      "Epoch:  9 | train loss: 0.5455\n",
      "Epoch:  9 | train loss: 0.7500\n",
      "Epoch:  9 | train loss: 0.6660\n",
      "Epoch:  9 | train loss: 0.8147\n",
      "Epoch:  9 | train loss: 0.6974\n",
      "Epoch:  9 | train loss: 0.6484\n",
      "Epoch:  9 | train loss: 0.7322\n",
      "Epoch:  9 | train loss: 0.6445\n",
      "Epoch:  9 | train loss: 0.8323\n",
      "Epoch:  9 | train loss: 0.6782\n",
      "Epoch:  9 | train loss: 0.8592\n",
      "Epoch:  9 | train loss: 0.9044\n",
      "Epoch:  9 | train loss: 0.9493\n",
      "Epoch:  9 | train loss: 0.8592\n",
      "Epoch:  9 | train loss: 0.7479\n",
      "Epoch:  9 | train loss: 0.7088\n",
      "Epoch:  9 | train loss: 0.6707\n",
      "Epoch:  9 | train loss: 0.6850\n",
      "Epoch:  9 | train loss: 0.7398\n",
      "Epoch:  9 | train loss: 0.7103\n",
      "Epoch:  9 | train loss: 0.6750\n",
      "Epoch:  9 | train loss: 0.8457\n",
      "Epoch:  9 | train loss: 1.3076\n",
      "Epoch:  9 | train loss: 1.2378\n",
      "Epoch:  9 | train loss: 0.9487\n",
      "Epoch:  9 | train loss: 0.7521\n",
      "Epoch:  9 | train loss: 1.3043\n",
      "Epoch:  9 | train loss: 0.7758\n"
     ]
    }
   ],
   "source": [
    "for epoch in range(EPOCH):\n",
    "    for step, x in enumerate(train_loader):\n",
    "        b_x = Variable(x.view(-1, 5*5*2))   # batch x, shape (batch, 43*44)\n",
    "        b_y = Variable(x.view(-1, 5*5*2))   # batch y, shape (batch, 43*44)\n",
    "\n",
    "        encoded, decoded = autoencoder(b_x)\n",
    "\n",
    "        loss = loss_func(decoded, b_y)      # mean square error\n",
    "        optimizer.zero_grad()               # clear gradients for this training step\n",
    "        loss.backward()                     # backpropagation, compute gradients\n",
    "        optimizer.step()                    # apply gradients\n",
    "\n",
    "        if step % 50 == 0 and epoch in [0, 5, EPOCH-1]:\n",
    "            print('Epoch: ', epoch, '| train loss: %.4f' % loss.data.numpy())\n",
    "            _, decoded_data = autoencoder(view_data)"
   ]
  },
  {
   "cell_type": "code",
   "execution_count": 36,
   "metadata": {
    "scrolled": true
   },
   "outputs": [
    {
     "data": {
      "text/plain": [
       "tensor(0.6855, grad_fn=<MseLossBackward>)"
      ]
     },
     "execution_count": 36,
     "metadata": {},
     "output_type": "execute_result"
    }
   ],
   "source": [
    "loss"
   ]
  },
  {
   "cell_type": "code",
   "execution_count": 38,
   "metadata": {},
   "outputs": [],
   "source": [
    "# Scaler results\n",
    "x_ERA5 = a.copy()\n",
    "pred_x_ERA5 = autoencoder(train_data_ERA5)[1].reshape(-1,2,1).detach().numpy()\n",
    "pred_x_ERA5 = pred_x_ERA5.reshape(len(pred_x_ERA5),-1)"
   ]
  },
  {
   "cell_type": "code",
   "execution_count": 47,
   "metadata": {},
   "outputs": [
    {
     "data": {
      "text/plain": [
       "<matplotlib.legend.Legend at 0x1d48e238a90>"
      ]
     },
     "execution_count": 47,
     "metadata": {},
     "output_type": "execute_result"
    },
    {
     "data": {
      "image/png": "[encoded data removed]",
      "text/plain": [
       "<Figure size 432x288 with 1 Axes>"
      ]
     },
     "metadata": {
      "needs_background": "light"
     },
     "output_type": "display_data"
    }
   ],
   "source": [
    "n = 2\n",
    "plt.plot(b[5000:10000,n],label='init')\n",
    "plt.plot(pred_x_ERA5.reshape(-1,50)[5000:10000,n],label='pred')\n",
    "plt.legend()"
   ]
  },
  {
   "cell_type": "code",
   "execution_count": 48,
   "metadata": {},
   "outputs": [
    {
     "data": {
      "text/plain": [
       "0.830765470144428"
      ]
     },
     "execution_count": 48,
     "metadata": {},
     "output_type": "execute_result"
    }
   ],
   "source": [
    "cal_RMSE(a.values[:,0],pred_x_ERA5.reshape(len(pred_x_ERA5),-1)[:,0])"
   ]
  },
  {
   "cell_type": "markdown",
   "metadata": {},
   "source": [
    "Test results:  \n",
    "output: 5, train loss: 1.8007  \n",
    "output: 6, train loss: 1.6209  \n",
    "output: 8, train loss: 2.0476  \n",
    "ReLU output: 5, train loss: 0.6864  \n",
    "ReLU output: 6, train loss: 0.6872  \n",
    "Sigmoid output: 6, train loss: 2.2636  "
   ]
  },
  {
   "cell_type": "markdown",
   "metadata": {},
   "source": [
    "#### Using autoencoder result as ERA5 train_condition "
   ]
  },
  {
   "cell_type": "code",
   "execution_count": 115,
   "metadata": {},
   "outputs": [],
   "source": [
    "condition_1 = autoencoder(train_data_ERA5)[0].detach().numpy()\n",
    "train_condition, test_condition = condition_1[:6000], condition_1[6000:7200]"
   ]
  },
  {
   "cell_type": "code",
   "execution_count": 337,
   "metadata": {},
   "outputs": [],
   "source": [
    "def build_model_ConditionLSTM_FS_1buoy(train, train_condition, n_past, n_future, FS_order):\n",
    "    # ##################### define parameters #######################\n",
    "    latent_dim_cond = 100\n",
    "    latent_dim = 200 # LSTM hidden units\n",
    "    dropout = .20 \n",
    "    verbose, epochs, batch_size = 0, 25, 16\n",
    "    \n",
    "    # ###################### prepare data ########################\n",
    "    train_x, train_y = split_series(train.values, n_past, n_future)\n",
    "    train_x = train_x[:,:,FS_order]\n",
    "    train_y = train_y[:,:,target_feature]\n",
    "\n",
    "    cond_1_train_temp = train_condition[n_past:-n_future+1]\n",
    "    cond_1_train = cond_1_train_temp.reshape(cond_1_train_temp.shape[0], 1, -1)\n",
    "\n",
    "    n_features_input = train_x.shape[2] # i.e. FS_order\n",
    "    n_features_output = train_y.shape[2] # i.e. target_feature\n",
    "    \n",
    "    # ####################### Condition from ERA5 ##########################\n",
    "    condition_inputs = Input(shape=(cond_1_train.shape[1], cond_1_train.shape[2])) \n",
    "    condition = LSTM(cond_1_train.shape[2], return_state=True)\n",
    "    condition_states = condition(condition_inputs)[1:]\n",
    "    \n",
    "    # ####################### LSTM input from buoys ##########################\n",
    "    encoder_inputs = Input(shape=(n_past, n_features_input))\n",
    "    encoder_l1 = LSTM(latent_dim)(encoder_inputs)      #, return_state=True)\n",
    "    decoder_l1 = RepeatVector(n_future)(encoder_l1)\n",
    "    \n",
    "    # ####################### Combine ERA5 condition & buoy measurement #########################\n",
    "    decoder_lstm_2 = LSTM(cond_1_train.shape[2],return_sequences=True) #, dropout=dropout, return_sequences=True, return_state=True\n",
    "    decoder_outputs3 = decoder_lstm_2(decoder_l1, initial_state=condition_states) #, initial_state=condition_states\n",
    "\n",
    "    decoder_output1 = TimeDistributed(tf.keras.layers.Dense(100))(decoder_outputs3) #decoder_outputs2\n",
    "    decoder_outputs2 = TimeDistributed(tf.keras.layers.Dense(n_features_output))(decoder_output1)\n",
    "    \n",
    "    model = Model([condition_inputs, encoder_inputs], decoder_outputs2)\n",
    "    reduce_lr = tf.keras.callbacks.LearningRateScheduler(lambda x: 1e-3 * 0.09 ** x)\n",
    "    model.compile(loss='mse', optimizer='adam') # learning_rate=1e-3, decay_rate=0.9\n",
    "    # ###################### fit network #########################\n",
    "    history = model.fit(x = [cond_1_train, train_x], y=train_y, epochs=epochs, batch_size=batch_size, \n",
    "                        verbose=verbose, callbacks=[reduce_lr], validation_split=0.2)\n",
    "    \n",
    "    return model, history"
   ]
  },
  {
   "cell_type": "code",
   "execution_count": 338,
   "metadata": {},
   "outputs": [],
   "source": [
    "model, history = build_model_ConditionLSTM_FS_1buoy(train, train_condition, n_past, n_future, FS_order)"
   ]
  },
  {
   "cell_type": "code",
   "execution_count": 231,
   "metadata": {},
   "outputs": [
    {
     "data": {
      "image/png": "[encoded data removed]",
      "text/plain": [
       "<Figure size 432x288 with 1 Axes>"
      ]
     },
     "metadata": {
      "needs_background": "light"
     },
     "output_type": "display_data"
    },
    {
     "data": {
      "text/plain": [
       "(0.018284482508897783, 0.009860514663159847)"
      ]
     },
     "execution_count": 231,
     "metadata": {},
     "output_type": "execute_result"
    }
   ],
   "source": [
    "plt.plot(history.history[\"loss\"], label=\"Training Loss\")\n",
    "plt.plot(history.history[\"val_loss\"], label=\"Validation Loss\")\n",
    "plt.legend()\n",
    "plt.show()\n",
    "np.mean(history.history['loss'][10:]), np.mean(history.history['val_loss'][10:])"
   ]
  },
  {
   "cell_type": "code",
   "execution_count": 188,
   "metadata": {
    "scrolled": true
   },
   "outputs": [
    {
     "data": {
      "text/plain": [
       "(<KerasTensor: shape=(None, 1, 5) dtype=float32 (created by layer 'input_106')>,\n",
       " <KerasTensor: shape=(None, 24, 2) dtype=float32 (created by layer 'input_107')>,\n",
       " <KerasTensor: shape=(None, 12, 1) dtype=float32 (created by layer 'time_distributed_39')>)"
      ]
     },
     "execution_count": 188,
     "metadata": {},
     "output_type": "execute_result"
    }
   ],
   "source": [
    "condition_inputs, encoder_inputs, decoder_outputs2"
   ]
  },
  {
   "cell_type": "code",
   "execution_count": 191,
   "metadata": {
    "scrolled": true
   },
   "outputs": [
    {
     "data": {
      "text/plain": [
       "((5965, 1, 5), (5965, 24, 2), (5965, 12, 1))"
      ]
     },
     "execution_count": 191,
     "metadata": {},
     "output_type": "execute_result"
    }
   ],
   "source": [
    "cond_1_train.shape, train_x.shape, train_y.shape"
   ]
  },
  {
   "cell_type": "code",
   "execution_count": 218,
   "metadata": {},
   "outputs": [],
   "source": [
    "reduce_lr = tf.keras.callbacks.LearningRateScheduler(lambda x: 1e-3 * 0.09 ** x)\n",
    "#     model.compile(loss='mean_absolute_percentage_error', optimizer='adam') # learning_rate=1e-3, decay_rate=0.9\n",
    "model.compile(loss='mse', optimizer='adam') # learning_rate=1e-3, decay_rate=0.9\n",
    "#     # fit network\n",
    "history = model.fit(x = [cond_1_train, train_x], y=train_y, epochs=epochs, batch_size=batch_size, \n",
    "                    verbose=verbose, callbacks=[reduce_lr], validation_split=0.2)"
   ]
  },
  {
   "cell_type": "code",
   "execution_count": 219,
   "metadata": {},
   "outputs": [
    {
     "data": {
      "image/png": "[encoded data removed]",
      "text/plain": [
       "<Figure size 432x288 with 1 Axes>"
      ]
     },
     "metadata": {
      "needs_background": "light"
     },
     "output_type": "display_data"
    }
   ],
   "source": [
    "plt.plot(history.history[\"loss\"], label=\"Training Loss\")\n",
    "plt.plot(history.history[\"val_loss\"], label=\"Validation Loss\")\n",
    "plt.legend()\n",
    "plt.show()"
   ]
  },
  {
   "cell_type": "code",
   "execution_count": 220,
   "metadata": {
    "scrolled": true
   },
   "outputs": [
    {
     "data": {
      "text/plain": [
       "(0.020559958244363467, 0.010037564672529697)"
      ]
     },
     "execution_count": 220,
     "metadata": {},
     "output_type": "execute_result"
    }
   ],
   "source": [
    "np.mean(history.history['loss'][10:]), np.mean(history.history['val_loss'][10:])"
   ]
  },
  {
   "cell_type": "code",
   "execution_count": 232,
   "metadata": {},
   "outputs": [],
   "source": [
    "test_condition_temp = test_condition[n_past:-n_future+1]\n",
    "condition_test = test_condition_temp.reshape(test_condition_temp.shape[0],1, -1)"
   ]
  },
  {
   "cell_type": "code",
   "execution_count": 233,
   "metadata": {},
   "outputs": [
    {
     "data": {
      "text/plain": [
       "((1129, 48, 21), (1129, 1, 5))"
      ]
     },
     "execution_count": 233,
     "metadata": {},
     "output_type": "execute_result"
    }
   ],
   "source": [
    "X_test.shape, condition_test.shape"
   ]
  },
  {
   "cell_type": "code",
   "execution_count": 234,
   "metadata": {},
   "outputs": [],
   "source": [
    "# Scaler results\n",
    "y_test_1 = y_test.copy()\n",
    "prd_LSTM_FS_1buoy = model.predict([condition_test, X_test[:,:,FS_order]])"
   ]
  },
  {
   "cell_type": "code",
   "execution_count": 235,
   "metadata": {},
   "outputs": [],
   "source": [
    "for target_order in range(len(target_feature)):\n",
    "    prd_LSTM_FS_1buoy[:,:,target_order]=scalers['scaler_'+table.columns[target_feature[target_order]]].inverse_transform(prd_LSTM_FS_1buoy[:,:,target_order])\n",
    "    \n",
    "y_test_1[:,:,target_feature_FS] = scalers['scaler_'+table.columns[target_feature_FS]].inverse_transform(y_test_1[:,:,target_feature_FS])"
   ]
  },
  {
   "cell_type": "code",
   "execution_count": 236,
   "metadata": {
    "scrolled": true
   },
   "outputs": [
    {
     "data": {
      "text/plain": [
       "(array([0.2618799]),\n",
       " [0.2628991966523657,\n",
       "  0.1777964581985682,\n",
       "  0.1863562147994323,\n",
       "  0.1930615268200569,\n",
       "  0.19848066413337828,\n",
       "  0.20443751191798,\n",
       "  0.21060608169077646,\n",
       "  0.21707096565447428,\n",
       "  0.22418968644958315,\n",
       "  0.2314749120811979,\n",
       "  0.23933305924663859,\n",
       "  0.2476453199965483,\n",
       "  0.2560106649565428,\n",
       "  0.26423424195720296,\n",
       "  0.2724163625715598,\n",
       "  0.28057825884653986,\n",
       "  0.28864521442471935,\n",
       "  0.29652787742836845,\n",
       "  0.3039912490755014,\n",
       "  0.3110345703456406,\n",
       "  0.3177396951129615,\n",
       "  0.324171845756341,\n",
       "  0.33077994197243327,\n",
       "  0.33756119361722114])"
      ]
     },
     "execution_count": 236,
     "metadata": {},
     "output_type": "execute_result"
    }
   ],
   "source": [
    "evaluate_forecasts(y_test_1[:,:,target_feature], prd_LSTM_FS_1buoy[:,:,0])"
   ]
  },
  {
   "cell_type": "code",
   "execution_count": 240,
   "metadata": {},
   "outputs": [
    {
     "data": {
      "text/plain": [
       "array([[1.285, 1.41 , 1.44 , ..., 0.265, 0.36 , 0.385],\n",
       "       [1.41 , 1.44 , 1.305, ..., 0.36 , 0.385, 0.335],\n",
       "       [1.44 , 1.305, 1.145, ..., 0.385, 0.335, 0.31 ],\n",
       "       ...,\n",
       "       [0.62 , 0.65 , 0.73 , ..., 1.315, 1.47 , 1.535],\n",
       "       [0.65 , 0.73 , 0.78 , ..., 1.47 , 1.535, 1.71 ],\n",
       "       [0.73 , 0.78 , 0.775, ..., 1.535, 1.71 , 1.745]])"
      ]
     },
     "execution_count": 240,
     "metadata": {},
     "output_type": "execute_result"
    }
   ],
   "source": [
    "y_test_1[:,:,target_feature_FS]"
   ]
  },
  {
   "cell_type": "code",
   "execution_count": 185,
   "metadata": {
    "scrolled": true
   },
   "outputs": [
    {
     "data": {
      "image/png": "[encoded data removed]",
      "text/plain": [
       "<IPython.core.display.Image object>"
      ]
     },
     "execution_count": 185,
     "metadata": {},
     "output_type": "execute_result"
    }
   ],
   "source": [
    "# from tensorflow.keras.models import Model\n",
    "from tensorflow.keras.layers import Input, LSTM, Dense\n",
    "from tensorflow.keras.optimizers import Adam\n",
    "\n",
    "latent_dim_cond = 100\n",
    "latent_dim = 200 # LSTM hidden units\n",
    "dropout = .20 \n",
    "\n",
    "train_x, train_y = split_series(train.values, n_past, n_future)\n",
    "train_x = train_x[:,:,FS_order]\n",
    "train_y = train_y[:,:,target_feature]\n",
    "    \n",
    "cond_1_train_temp = train_condition[n_past:-n_future+1]\n",
    "cond_1_train = cond_1_train_temp.reshape(cond_1_train_temp.shape[0], 1, -1)\n",
    "    \n",
    "    # define parameters\n",
    "verbose, epochs, batch_size = 0, 25, 16\n",
    "n_features_input = train_x.shape[2] # i.e. FS_order\n",
    "n_features_output = train_y.shape[2] # i.e. target_feature\n",
    "\n",
    "######################## Condition ##########################\n",
    "# Define an input series and encode it with an LSTM. \n",
    "condition_inputs = Input(shape=(cond_1_train.shape[1], cond_1_train.shape[2])) \n",
    "condition = LSTM(cond_1_train.shape[2], return_state=True)\n",
    "condition_states = condition(condition_inputs)[1:]\n",
    "\n",
    "# We discard `encoder_outputs` and only keep the final states. These represent the \"context\"\n",
    "# vector that we use as the basis for decoding.\n",
    "\n",
    "######################## Condition ##########################\n",
    "\n",
    "# Set up the decoder, using `encoder_states` as initial state.\n",
    "# This is where teacher forcing inputs are fed in.\n",
    "\n",
    "######################## TS ##########################\n",
    "encoder_inputs = Input(shape=(n_past, n_features_input))\n",
    "encoder_l1 = LSTM(latent_dim)(encoder_inputs)      #, return_state=True)\n",
    "decoder_l1 = RepeatVector(n_future)(encoder_l1)\n",
    "decoder_l1 = LSTM(latent_dim, return_sequences=True)(decoder_l1)\n",
    "\n",
    "\n",
    "######################### encoder_inputs, decoder_outputs1 ############################\n",
    "######################## TS ##########################\n",
    "\n",
    "# We set up our decoder using `encoder_states` as initial state.  \n",
    "# We return full output sequences and return internal states as well. \n",
    "# We don't use the return states in the training model, but we will use them in inference.\n",
    "# decoder_lstm_1 = LSTM(latent_dim_cond, dropout=dropout, return_state=True)\n",
    "# decoder_outputs_1, _, _ = decoder_lstm_1(decoder_inputs)\n",
    "\n",
    "\n",
    "decoder_output1 = TimeDistributed(tf.keras.layers.Dense(100))(decoder_l1) #decoder_outputs2\n",
    "decoder_outputs2 = TimeDistributed(tf.keras.layers.Dense(n_features_output))(decoder_output1)\n",
    "\n",
    "decoder_lstm_2 = LSTM(cond_1_train.shape[2], dropout=dropout, return_sequences=True) #, dropout=dropout, return_sequences=True, return_state=True\n",
    "decoder_outputs3 = decoder_lstm_2(decoder_outputs2, initial_state=condition_states) #, initial_state=condition_states\n",
    "\n",
    "# decoder_dense = Dense(100) # 1 continuous output at each timestep\n",
    "# decoder_outputs = decoder_dense(decoder_outputs)\n",
    "# TimeDistributed(Dense(100, activation='relu'))\n",
    "\n",
    "# attn_layer = Attention()([encoder_outputs, decoder_outputs])\n",
    "# attn_out, attn_states = attn_layer([encoder_outputs, decoder_outputs])\n",
    "\n",
    "# Define the model that will turn\n",
    "# `encoder_input_data` & `decoder_input_data` into `decoder_target_data`\n",
    "model = Model([condition_inputs, encoder_inputs], decoder_outputs3)\n",
    "# model = Model([encoder_inputs, decoder_inputs], decoder_outputs1)\n",
    "# print(model.summary())\n",
    "\n",
    "plot_model(model, show_shapes=True, show_layer_names=True)"
   ]
  },
  {
   "cell_type": "code",
   "execution_count": null,
   "metadata": {},
   "outputs": [],
   "source": []
  },
  {
   "cell_type": "markdown",
   "metadata": {},
   "source": [
    "# 6) Evaluate prediction"
   ]
  },
  {
   "cell_type": "code",
   "execution_count": 212,
   "metadata": {},
   "outputs": [],
   "source": [
    "from sklearn.metrics import mean_squared_error\n",
    "# evaluate one or more weekly forecasts against expected values\n",
    "def evaluate_forecasts(actual, predicted):\n",
    "    scores = list()\n",
    "    # calculate an RMSE score for each day\n",
    "    for i in range(actual.shape[1]):\n",
    "        # calculate mse\n",
    "        mse = mean_squared_error(actual[:, i], predicted[:, i])\n",
    "        # calculate rmse\n",
    "        rmse = np.sqrt(mse)\n",
    "        # store\n",
    "        scores.append(rmse)\n",
    "            # calculate overall RMSE\n",
    "    s = 0\n",
    "    for row in range(actual.shape[0]):\n",
    "        for col in range(actual.shape[1]):\n",
    "            s += (actual[row, col] - predicted[row, col])**2\n",
    "    score = np.sqrt(s / (actual.shape[0] * actual.shape[1]))\n",
    "    return score, scores"
   ]
  },
  {
   "cell_type": "code",
   "execution_count": 213,
   "metadata": {},
   "outputs": [],
   "source": [
    "# summarize scores\n",
    "def summarize_scores(name, score, scores):\n",
    "    s_scores = ', '.join(['%.1f' % s for s in scores])\n",
    "    print('%s: [%.3f] %s' % (name, score, s_scores))"
   ]
  },
  {
   "cell_type": "code",
   "execution_count": 354,
   "metadata": {},
   "outputs": [],
   "source": [
    "# build_model_LSTM_1_1buoy(train, n_past, n_future, FS_order)\n",
    "# build_model_LSTM_1buoy(train, n_past, n_future, FS_order)\n",
    "\n",
    "model, history = build_model_LSTM_FS_1buoy(train, n_past, n_future, FS_order) # For most taget variable\n",
    "\n",
    "# model, history = build_model_StackedLSTM_FS_1buoy(train, n_past, n_future, FS_order) \n",
    "# model, history = build_model_2StackedLSTM(train, n_past, n_future, FS_order)\n",
    "# \n",
    "# model, history = build_model_LSTM_FS_Dirp(train, n_past, n_future, FS_order) # For Dirp"
   ]
  },
  {
   "cell_type": "code",
   "execution_count": 49,
   "metadata": {},
   "outputs": [
    {
     "data": {
      "image/png": "[encoded data removed]",
      "text/plain": [
       "<Figure size 432x288 with 1 Axes>"
      ]
     },
     "metadata": {
      "needs_background": "light"
     },
     "output_type": "display_data"
    }
   ],
   "source": [
    "plt.plot(history.history[\"loss\"], label=\"Training Loss\")\n",
    "plt.plot(history.history[\"val_loss\"], label=\"Validation Loss\")\n",
    "plt.legend()\n",
    "plt.show()"
   ]
  },
  {
   "cell_type": "code",
   "execution_count": 50,
   "metadata": {
    "scrolled": true
   },
   "outputs": [
    {
     "data": {
      "text/plain": [
       "(0.010375834194322427, 0.00467603700235486)"
      ]
     },
     "execution_count": 50,
     "metadata": {},
     "output_type": "execute_result"
    }
   ],
   "source": [
    "np.mean(history.history['loss'][10:]), np.mean(history.history['val_loss'][10:])"
   ]
  },
  {
   "cell_type": "code",
   "execution_count": 51,
   "metadata": {},
   "outputs": [],
   "source": [
    "# Scaler results\n",
    "y_test_1 = y_test.copy()\n",
    "prd_LSTM_FS_1buoy = model.predict(X_test[:,:,FS_order])"
   ]
  },
  {
   "cell_type": "code",
   "execution_count": 52,
   "metadata": {},
   "outputs": [],
   "source": [
    "# Reverse to original data\n",
    "for target_order in range(len(target_feature)):\n",
    "    prd_LSTM_FS_1buoy[:,:,target_order]=scalers['scaler_'+table.columns[target_feature[target_order]]].inverse_transform(prd_LSTM_FS_1buoy[:,:,target_order])\n",
    "    \n",
    "y_test_1[:,:,target_feature_FS] = scalers['scaler_'+table.columns[target_feature_FS]].inverse_transform(y_test_1[:,:,target_feature_FS])"
   ]
  },
  {
   "cell_type": "markdown",
   "metadata": {},
   "source": [
    "Evaluate forecast of variables other than Dirp"
   ]
  },
  {
   "cell_type": "code",
   "execution_count": 2137,
   "metadata": {},
   "outputs": [
    {
     "data": {
      "text/plain": [
       "(array([0.10224263]),\n",
       " [0.047498607421866984,\n",
       "  0.05171658952379824,\n",
       "  0.06522091007628801,\n",
       "  0.0771278802493506,\n",
       "  0.08655944600550654,\n",
       "  0.09558931237224963,\n",
       "  0.10445272079675703,\n",
       "  0.11297851104829879,\n",
       "  0.12097718142596371,\n",
       "  0.12861661907043595,\n",
       "  0.13587734117337918,\n",
       "  0.1427050188197363])"
      ]
     },
     "execution_count": 2137,
     "metadata": {},
     "output_type": "execute_result"
    }
   ],
   "source": [
    "evaluate_forecasts(y_test_1[:,:,target_feature], prd_LSTM_FS_1buoy[:,:,0])"
   ]
  },
  {
   "cell_type": "markdown",
   "metadata": {},
   "source": [
    "Evaluate forecast of Dirp"
   ]
  },
  {
   "cell_type": "code",
   "execution_count": 1916,
   "metadata": {},
   "outputs": [],
   "source": [
    "# Reverse to original data\n",
    "# for target_order in range(len(target_feature)):\n",
    "#     y_test_1[:,:,target_feature[target_order]] = scalers['scaler_'+table.columns[target_feature[target_order]]].inverse_transform(y_test_1[:,:,target_feature[target_order]])\n"
   ]
  },
  {
   "cell_type": "code",
   "execution_count": 2009,
   "metadata": {},
   "outputs": [
    {
     "data": {
      "text/plain": [
       "18"
      ]
     },
     "execution_count": 2009,
     "metadata": {},
     "output_type": "execute_result"
    }
   ],
   "source": [
    "target_feature_FS"
   ]
  },
  {
   "cell_type": "code",
   "execution_count": 2040,
   "metadata": {},
   "outputs": [],
   "source": [
    "sinx = prd_LSTM_FS_1buoy[:,:,0].flatten()\n",
    "cosx = prd_LSTM_FS_1buoy[:,:,1].flatten()"
   ]
  },
  {
   "cell_type": "code",
   "execution_count": 2052,
   "metadata": {
    "scrolled": false
   },
   "outputs": [
    {
     "data": {
      "text/plain": [
       "(1165, 12)"
      ]
     },
     "execution_count": 2052,
     "metadata": {},
     "output_type": "execute_result"
    }
   ],
   "source": [
    "Dirp1_reverse = np.array([return_degree(sinx[j],cosx[j]) for j in range(len(sinx))])\n",
    "b = Dirp1_reverse.reshape(prd_LSTM_FS_1buoy[:,:,0].shape[0],prd_LSTM_FS_1buoy[:,:,0].shape[1])\n",
    "b.shape"
   ]
  },
  {
   "cell_type": "code",
   "execution_count": 2053,
   "metadata": {
    "scrolled": true
   },
   "outputs": [
    {
     "data": {
      "text/plain": [
       "(1165, 12)"
      ]
     },
     "execution_count": 2053,
     "metadata": {},
     "output_type": "execute_result"
    }
   ],
   "source": [
    "a = y_test_1[:,:,target_feature_FS]\n",
    "a.shape\n",
    "# a[np.isnan(a)]"
   ]
  },
  {
   "cell_type": "code",
   "execution_count": 2054,
   "metadata": {
    "scrolled": false
   },
   "outputs": [
    {
     "name": "stdout",
     "output_type": "stream",
     "text": [
      "Step_1 66.49433745963286\n",
      "Step_2 18.88588262897387\n",
      "Step_3 20.10987529734632\n",
      "Step_4 22.773306215246304\n",
      "Step_5 25.590622794986004\n",
      "Step_6 25.240416624826835\n",
      "Step_7 26.08481829578878\n",
      "Step_8 25.652945507967953\n",
      "Step_9 24.416237639660853\n",
      "Step_10 23.956776028971838\n",
      "Step_11 23.063652291849376\n",
      "Step_12 23.398450942557762\n"
     ]
    }
   ],
   "source": [
    "# step = 1\n",
    "for step in range(12):\n",
    "#     print('Step_'+str(step+1),mean_absolute_error(a[:,step,:][~np.isnan(b[:,step,:])], b[:,step,:][~np.isnan(b[:,step,:])]))\n",
    "    print('Step_'+str(step+1),cal_RMSE(a[:,step][~np.isnan(b[:,step])], b[:,step][~np.isnan(b[:,step])]))"
   ]
  },
  {
   "cell_type": "code",
   "execution_count": 2055,
   "metadata": {
    "scrolled": true
   },
   "outputs": [
    {
     "data": {
      "text/plain": [
       "(29.694490712697323,\n",
       " [66.49433745963286,\n",
       "  18.88588262897387,\n",
       "  20.10987529734632,\n",
       "  22.773306215246304,\n",
       "  25.590622794986004,\n",
       "  25.240416624826835,\n",
       "  26.08481829578878,\n",
       "  25.652945507967953,\n",
       "  24.416237639660853,\n",
       "  23.956776028971838,\n",
       "  23.063652291849376,\n",
       "  23.398450942557762])"
      ]
     },
     "execution_count": 2055,
     "metadata": {},
     "output_type": "execute_result"
    }
   ],
   "source": [
    "evaluate_forecasts(a, b)"
   ]
  },
  {
   "cell_type": "code",
   "execution_count": 1959,
   "metadata": {
    "scrolled": false
   },
   "outputs": [
    {
     "data": {
      "text/plain": [
       "(18.506226670923382,\n",
       " [17.25219920816222,\n",
       "  15.676021352179324,\n",
       "  16.320339832161316,\n",
       "  17.13469419750185,\n",
       "  17.841872964473666,\n",
       "  18.48098558084695,\n",
       "  18.948753475159528,\n",
       "  19.364806370084054,\n",
       "  19.678476813802952,\n",
       "  19.99088995243125,\n",
       "  20.19265741517277,\n",
       "  20.442261604202915])"
      ]
     },
     "execution_count": 1959,
     "metadata": {},
     "output_type": "execute_result"
    }
   ],
   "source": [
    "evaluate_forecasts(a, b)"
   ]
  },
  {
   "cell_type": "markdown",
   "metadata": {},
   "source": [
    "Dir end"
   ]
  },
  {
   "cell_type": "code",
   "execution_count": 53,
   "metadata": {},
   "outputs": [
    {
     "data": {
      "text/plain": [
       "(array([0.197064]),\n",
       " [0.0852796650680102,\n",
       "  0.10747161113109353,\n",
       "  0.13167894230933477,\n",
       "  0.15327145182127797,\n",
       "  0.17210257979764593,\n",
       "  0.18842242942753099,\n",
       "  0.2028851898637386,\n",
       "  0.2162718370848196,\n",
       "  0.229704977481448,\n",
       "  0.2434158631015869,\n",
       "  0.2580763878756226,\n",
       "  0.27327473621425125])"
      ]
     },
     "execution_count": 53,
     "metadata": {},
     "output_type": "execute_result"
    }
   ],
   "source": [
    "evaluate_forecasts(y_test_1[:,:,target_feature], \n",
    "                   prd_LSTM_FS_1buoy[:,:,0])"
   ]
  },
  {
   "cell_type": "code",
   "execution_count": 54,
   "metadata": {
    "scrolled": false
   },
   "outputs": [
    {
     "name": "stdout",
     "output_type": "stream",
     "text": [
      "LSTM half hr  1 : MAE:  1.3534207985711966, LSTM half hr  1 : RMSE:  0.0852796650680102, \n",
      "LSTM half hr  2 : MAE:  1.3500684999302972, LSTM half hr  2 : RMSE:  0.10747161113109353, \n",
      "LSTM half hr  3 : MAE:  1.3633677072427948, LSTM half hr  3 : RMSE:  0.13167894230933477, \n",
      "LSTM half hr  4 : MAE:  1.3653001219572578, LSTM half hr  4 : RMSE:  0.15327145182127797, \n",
      "LSTM half hr  5 : MAE:  1.3634808710952142, LSTM half hr  5 : RMSE:  0.17210257979764593, \n",
      "LSTM half hr  6 : MAE:  1.3635851789909317, LSTM half hr  6 : RMSE:  0.18842242942753099, \n",
      "LSTM half hr  7 : MAE:  1.3640031951828056, LSTM half hr  7 : RMSE:  0.2028851898637386, \n",
      "LSTM half hr  8 : MAE:  1.3643264533149166, LSTM half hr  8 : RMSE:  0.2162718370848196, \n",
      "LSTM half hr  9 : MAE:  1.3639002752229528, LSTM half hr  9 : RMSE:  0.229704977481448, \n",
      "LSTM half hr  10 : MAE:  1.362794278526399, LSTM half hr  10 : RMSE:  0.2434158631015869, \n",
      "LSTM half hr  11 : MAE:  1.3611935124374026, LSTM half hr  11 : RMSE:  0.2580763878756226, \n",
      "LSTM half hr  12 : MAE:  1.3594087987116354, LSTM half hr  12 : RMSE:  0.27327473621425125, \n"
     ]
    }
   ],
   "source": [
    "from sklearn.metrics import mean_absolute_error\n",
    "# for index,i in enumerate(train_df.columns[:7]):\n",
    "#     print(i)\n",
    "for j in range(1,n_future+1):\n",
    "    print(\"LSTM half hr \",j,\":\",\"MAE: \",mean_absolute_error(y_test[:,j-1,target_feature],prd_LSTM_FS_1buoy[:,j-1,target_feature]),end=\", \")\n",
    "    print(\"LSTM half hr \",j,\":\",\"RMSE: \",cal_RMSE(y_test_1[:,j-1,target_feature],prd_LSTM_FS_1buoy[:,j-1,target_feature]),end=\", \")\n",
    "    print()\n"
   ]
  },
  {
   "cell_type": "code",
   "execution_count": 2227,
   "metadata": {
    "scrolled": true
   },
   "outputs": [
    {
     "data": {
      "image/png": "[encoded data removed]",
      "text/plain": [
       "<Figure size 1080x360 with 1 Axes>"
      ]
     },
     "metadata": {
      "needs_background": "light"
     },
     "output_type": "display_data"
    }
   ],
   "source": [
    "plt.figure(figsize=(15,5))\n",
    "plt.title('24 steps lookback - 12 steps ahead')\n",
    "\n",
    "plt.plot(test_df.index[24-1:len(test_df)-12], test_df.iloc[24-1:len(test_df)-12,target_feature_FS],label='Real')\n",
    "for i in range(1,n_future):\n",
    "#     plt.subplot(6,1,i)\n",
    "    \n",
    "    plt.plot(test_df.index[24-1:len(test_df)-12], prd_LSTM_FS_1buoy[:,i-1,0], label='Prediction '+ str(i) + ' forward')\n",
    "    plt.legend()\n",
    "#     print(str(i)+' lookback RMSE: ',cal_RMSE(predict[:,i-1,0],test[12+i-1:len(test)-5+i-1,0]), 'R2: ',r2_score(predict[:,i-1,0],test[12+i-1:len(test)-5+i-1,0], multioutput='raw_values'))\n",
    "\n",
    "    # plt.ylim(0,5)\n",
    "plt.savefig('24-12_LSTM_1Hs.png',box_inches='tight')"
   ]
  },
  {
   "cell_type": "code",
   "execution_count": 2229,
   "metadata": {},
   "outputs": [
    {
     "data": {
      "text/plain": [
       "<matplotlib.legend.Legend at 0x19de6981128>"
      ]
     },
     "execution_count": 2229,
     "metadata": {},
     "output_type": "execute_result"
    },
    {
     "data": {
      "image/png": "[encoded data removed]",
      "text/plain": [
       "<Figure size 1080x360 with 1 Axes>"
      ]
     },
     "metadata": {
      "needs_background": "light"
     },
     "output_type": "display_data"
    }
   ],
   "source": [
    "i = 6 # future\n",
    "plt.figure(figsize=(15,5))\n",
    "# plt.plot(test.index[24+i-1:], y_test_1[:, 11,target_feature[0]],label='Real')\n",
    "plt.plot(test_df.index[24-1:len(test)-12], test_df.iloc[24-1:len(test)-12,target_feature_FS],label='Real')\n",
    "plt.plot(test_df.index[24-1:len(test)-12], prd_LSTM_FS_1buoy[:,i-1,0],label='Prediction')\n",
    "plt.legend()"
   ]
  },
  {
   "cell_type": "markdown",
   "metadata": {},
   "source": [
    "# Model Plot"
   ]
  },
  {
   "cell_type": "code",
   "execution_count": 1472,
   "metadata": {},
   "outputs": [
    {
     "name": "stdout",
     "output_type": "stream",
     "text": [
      "Model: \"sequential_10\"\n",
      "_________________________________________________________________\n",
      "Layer (type)                 Output Shape              Param #   \n",
      "=================================================================\n",
      "lstm_20 (LSTM)               (None, 200)               162400    \n",
      "_________________________________________________________________\n",
      "repeat_vector_10 (RepeatVect (None, 12, 200)           0         \n",
      "_________________________________________________________________\n",
      "lstm_21 (LSTM)               (None, 12, 200)           320800    \n",
      "_________________________________________________________________\n",
      "time_distributed_20 (TimeDis (None, 12, 100)           20100     \n",
      "_________________________________________________________________\n",
      "time_distributed_21 (TimeDis (None, 12, 1)             101       \n",
      "=================================================================\n",
      "Total params: 503,401\n",
      "Trainable params: 503,401\n",
      "Non-trainable params: 0\n",
      "_________________________________________________________________\n",
      "None\n"
     ]
    },
    {
     "data": {
      "image/png": "[encoded data removed]",
      "text/plain": [
       "<IPython.core.display.Image object>"
      ]
     },
     "execution_count": 1472,
     "metadata": {},
     "output_type": "execute_result"
    }
   ],
   "source": [
    "model = build_model_LSTM_FS_1buoy(train, n_past, n_future, FS_order)\n",
    "print(model.summary())\n",
    "plot_model(model, show_shapes=True, show_layer_names=True) # to_file="
   ]
  },
  {
   "cell_type": "code",
   "execution_count": 1476,
   "metadata": {},
   "outputs": [
    {
     "name": "stdout",
     "output_type": "stream",
     "text": [
      "Model: \"sequential_12\"\n",
      "_________________________________________________________________\n",
      "Layer (type)                 Output Shape              Param #   \n",
      "=================================================================\n",
      "lstm_24 (LSTM)               (None, 200)               162400    \n",
      "_________________________________________________________________\n",
      "repeat_vector_12 (RepeatVect (None, 12, 200)           0         \n",
      "_________________________________________________________________\n",
      "lstm_25 (LSTM)               (None, 12, 200)           320800    \n",
      "_________________________________________________________________\n",
      "time_distributed_24 (TimeDis (None, 12, 100)           20100     \n",
      "_________________________________________________________________\n",
      "time_distributed_25 (TimeDis (None, 12, 2)             202       \n",
      "=================================================================\n",
      "Total params: 503,502\n",
      "Trainable params: 503,502\n",
      "Non-trainable params: 0\n",
      "_________________________________________________________________\n",
      "None\n"
     ]
    }
   ],
   "source": [
    "model = build_model_LSTM_FS_Dirp(train, n_past, n_future, FS_order)\n",
    "print(model.summary())\n",
    "# plot_model(model, show_shapes=True, show_layer_names=True)"
   ]
  },
  {
   "cell_type": "code",
   "execution_count": 1991,
   "metadata": {},
   "outputs": [
    {
     "name": "stdout",
     "output_type": "stream",
     "text": [
      "Model: \"model_11\"\n",
      "__________________________________________________________________________________________________\n",
      "Layer (type)                    Output Shape         Param #     Connected to                     \n",
      "==================================================================================================\n",
      "input_32 (InputLayer)           [(None, 24, 7)]      0                                            \n",
      "__________________________________________________________________________________________________\n",
      "lstm_88 (LSTM)                  [(None, 200), (None, 166400      input_32[0][0]                   \n",
      "__________________________________________________________________________________________________\n",
      "repeat_vector_41 (RepeatVector) (None, 12, 200)      0           lstm_88[0][0]                    \n",
      "__________________________________________________________________________________________________\n",
      "lstm_89 (LSTM)                  (None, 12, 200)      320800      repeat_vector_41[0][0]           \n",
      "                                                                 lstm_88[0][1]                    \n",
      "                                                                 lstm_88[0][2]                    \n",
      "__________________________________________________________________________________________________\n",
      "time_distributed_41 (TimeDistri (None, 12, 100)      20100       lstm_89[0][0]                    \n",
      "__________________________________________________________________________________________________\n",
      "time_distributed_42 (TimeDistri (None, 12, 2)        202         time_distributed_41[0][0]        \n",
      "==================================================================================================\n",
      "Total params: 507,502\n",
      "Trainable params: 507,502\n",
      "Non-trainable params: 0\n",
      "__________________________________________________________________________________________________\n",
      "None\n"
     ]
    },
    {
     "data": {
      "image/png": "[encoded data removed]",
      "text/plain": [
       "<IPython.core.display.Image object>"
      ]
     },
     "execution_count": 1991,
     "metadata": {},
     "output_type": "execute_result"
    }
   ],
   "source": [
    "model = build_model_StackedLSTM_FS_1buoy(train, n_past, n_future, FS_order)\n",
    "print(model.summary())\n",
    "plot_model(model, show_shapes=True, show_layer_names=True) # to_file="
   ]
  },
  {
   "cell_type": "code",
   "execution_count": 1996,
   "metadata": {},
   "outputs": [
    {
     "name": "stdout",
     "output_type": "stream",
     "text": [
      "Model: \"model_13\"\n",
      "__________________________________________________________________________________________________\n",
      "Layer (type)                    Output Shape         Param #     Connected to                     \n",
      "==================================================================================================\n",
      "input_35 (InputLayer)           [(None, 24, 7)]      0                                            \n",
      "__________________________________________________________________________________________________\n",
      "lstm_96 (LSTM)                  [(None, 24, 200), (N 166400      input_35[0][0]                   \n",
      "__________________________________________________________________________________________________\n",
      "lstm_97 (LSTM)                  [(None, 200), (None, 320800      lstm_96[0][0]                    \n",
      "__________________________________________________________________________________________________\n",
      "repeat_vector_44 (RepeatVector) (None, 12, 200)      0           lstm_97[0][0]                    \n",
      "__________________________________________________________________________________________________\n",
      "lstm_98 (LSTM)                  (None, 12, 200)      320800      repeat_vector_44[0][0]           \n",
      "                                                                 lstm_96[0][1]                    \n",
      "                                                                 lstm_96[0][2]                    \n",
      "__________________________________________________________________________________________________\n",
      "lstm_99 (LSTM)                  (None, 12, 200)      320800      lstm_98[0][0]                    \n",
      "                                                                 lstm_97[0][1]                    \n",
      "                                                                 lstm_97[0][2]                    \n",
      "__________________________________________________________________________________________________\n",
      "time_distributed_46 (TimeDistri (None, 12, 100)      20100       lstm_99[0][0]                    \n",
      "__________________________________________________________________________________________________\n",
      "time_distributed_47 (TimeDistri (None, 12, 2)        202         time_distributed_46[0][0]        \n",
      "==================================================================================================\n",
      "Total params: 1,149,102\n",
      "Trainable params: 1,149,102\n",
      "Non-trainable params: 0\n",
      "__________________________________________________________________________________________________\n",
      "None\n"
     ]
    },
    {
     "data": {
      "image/png": "[encoded data removed]",
      "text/plain": [
       "<IPython.core.display.Image object>"
      ]
     },
     "execution_count": 1996,
     "metadata": {},
     "output_type": "execute_result"
    }
   ],
   "source": [
    "model = build_model_2StackedLSTM(train, n_past, n_future, FS_order)\n",
    "print(model.summary())\n",
    "plot_model(model, show_shapes=True, show_layer_names=True) # to_file="
   ]
  },
  {
   "cell_type": "code",
   "execution_count": 356,
   "metadata": {},
   "outputs": [
    {
     "name": "stdout",
     "output_type": "stream",
     "text": [
      "Model: \"model_38\"\n",
      "__________________________________________________________________________________________________\n",
      "Layer (type)                    Output Shape         Param #     Connected to                     \n",
      "==================================================================================================\n",
      "input_131 (InputLayer)          [(None, 24, 2)]      0                                            \n",
      "__________________________________________________________________________________________________\n",
      "lstm_179 (LSTM)                 (None, 200)          162400      input_131[0][0]                  \n",
      "__________________________________________________________________________________________________\n",
      "input_130 (InputLayer)          [(None, 1, 5)]       0                                            \n",
      "__________________________________________________________________________________________________\n",
      "repeat_vector_33 (RepeatVector) (None, 12, 200)      0           lstm_179[0][0]                   \n",
      "__________________________________________________________________________________________________\n",
      "lstm_178 (LSTM)                 [(None, 5), (None, 5 220         input_130[0][0]                  \n",
      "__________________________________________________________________________________________________\n",
      "lstm_180 (LSTM)                 (None, 12, 5)        4120        repeat_vector_33[0][0]           \n",
      "                                                                 lstm_178[0][1]                   \n",
      "                                                                 lstm_178[0][2]                   \n",
      "__________________________________________________________________________________________________\n",
      "time_distributed_56 (TimeDistri (None, 12, 100)      600         lstm_180[0][0]                   \n",
      "__________________________________________________________________________________________________\n",
      "time_distributed_57 (TimeDistri (None, 12, 1)        101         time_distributed_56[0][0]        \n",
      "==================================================================================================\n",
      "Total params: 167,441\n",
      "Trainable params: 167,441\n",
      "Non-trainable params: 0\n",
      "__________________________________________________________________________________________________\n",
      "None\n"
     ]
    },
    {
     "data": {
      "image/png": "[encoded data removed]",
      "text/plain": [
       "<IPython.core.display.Image object>"
      ]
     },
     "execution_count": 356,
     "metadata": {},
     "output_type": "execute_result"
    }
   ],
   "source": [
    "model, history = build_model_ConditionLSTM_FS_1buoy(train, train_condition, n_past, n_future, FS_order)\n",
    "print(model.summary())\n",
    "plot_model(model, show_shapes=True, show_layer_names=True)"
   ]
  },
  {
   "cell_type": "markdown",
   "metadata": {},
   "source": [
    "Decomposition of time series"
   ]
  },
  {
   "cell_type": "markdown",
   "metadata": {},
   "source": [
    "<!-- # Multivariate Multi-step Time Series - End\n",
    "Stacked LSTM Seq2Seq Autoencoder in Tensorflow 2.0/Keras\n",
    "code from the following\n",
    "https://www.analyticsvidhya.com/blog/2020/10/multivariate-multi-step-time-series-forecasting-using-stacked-lstm-sequence-to-sequence-autoencoder-in-tensorflow-2-0-keras/ -->"
   ]
  },
  {
   "cell_type": "code",
   "execution_count": 357,
   "metadata": {},
   "outputs": [
    {
     "data": {
      "text/html": [
       "<div>\n",
       "<style scoped>\n",
       "    .dataframe tbody tr th:only-of-type {\n",
       "        vertical-align: middle;\n",
       "    }\n",
       "\n",
       "    .dataframe tbody tr th {\n",
       "        vertical-align: top;\n",
       "    }\n",
       "\n",
       "    .dataframe thead th {\n",
       "        text-align: right;\n",
       "    }\n",
       "</style>\n",
       "<table border=\"1\" class=\"dataframe\">\n",
       "  <thead>\n",
       "    <tr style=\"text-align: right;\">\n",
       "      <th></th>\n",
       "      <th>1Wave Height (m)</th>\n",
       "      <th>1Max Wave Height (m)</th>\n",
       "      <th>1Tpeak (s)</th>\n",
       "      <th>1Tz (s)</th>\n",
       "      <th>1Peak Direction (degrees)</th>\n",
       "      <th>1Spread (degrees)</th>\n",
       "      <th>1Sea Temp (C)</th>\n",
       "      <th>2Wave Height (m)</th>\n",
       "      <th>2Max Wave Height (m)</th>\n",
       "      <th>2Tpeak (s)</th>\n",
       "      <th>...</th>\n",
       "      <th>2Peak Direction (degrees)</th>\n",
       "      <th>2Spread (degrees)</th>\n",
       "      <th>2Sea Temp (C)</th>\n",
       "      <th>3Wave Height (m)</th>\n",
       "      <th>3Max Wave Height (m)</th>\n",
       "      <th>3Tpeak (s)</th>\n",
       "      <th>3Tz (s)</th>\n",
       "      <th>3Peak Direction (degrees)</th>\n",
       "      <th>3Spread (degrees)</th>\n",
       "      <th>3Sea Temp (C)</th>\n",
       "    </tr>\n",
       "    <tr>\n",
       "      <th>Time (GMT)</th>\n",
       "      <th></th>\n",
       "      <th></th>\n",
       "      <th></th>\n",
       "      <th></th>\n",
       "      <th></th>\n",
       "      <th></th>\n",
       "      <th></th>\n",
       "      <th></th>\n",
       "      <th></th>\n",
       "      <th></th>\n",
       "      <th></th>\n",
       "      <th></th>\n",
       "      <th></th>\n",
       "      <th></th>\n",
       "      <th></th>\n",
       "      <th></th>\n",
       "      <th></th>\n",
       "      <th></th>\n",
       "      <th></th>\n",
       "      <th></th>\n",
       "      <th></th>\n",
       "    </tr>\n",
       "  </thead>\n",
       "  <tbody>\n",
       "    <tr>\n",
       "      <th>2010-01-02 00:00:00</th>\n",
       "      <td>0.390</td>\n",
       "      <td>0.560</td>\n",
       "      <td>10.80</td>\n",
       "      <td>6.55</td>\n",
       "      <td>187.5</td>\n",
       "      <td>13.0</td>\n",
       "      <td>8.15</td>\n",
       "      <td>0.550</td>\n",
       "      <td>0.780</td>\n",
       "      <td>12.20</td>\n",
       "      <td>...</td>\n",
       "      <td>204.5</td>\n",
       "      <td>17.0</td>\n",
       "      <td>9.05</td>\n",
       "      <td>0.530</td>\n",
       "      <td>0.865</td>\n",
       "      <td>7.65</td>\n",
       "      <td>4.05</td>\n",
       "      <td>299.5</td>\n",
       "      <td>34.5</td>\n",
       "      <td>9.05</td>\n",
       "    </tr>\n",
       "    <tr>\n",
       "      <th>2010-01-02 01:00:00</th>\n",
       "      <td>0.380</td>\n",
       "      <td>0.570</td>\n",
       "      <td>12.15</td>\n",
       "      <td>6.90</td>\n",
       "      <td>184.0</td>\n",
       "      <td>10.5</td>\n",
       "      <td>8.15</td>\n",
       "      <td>0.515</td>\n",
       "      <td>0.825</td>\n",
       "      <td>11.80</td>\n",
       "      <td>...</td>\n",
       "      <td>209.0</td>\n",
       "      <td>16.5</td>\n",
       "      <td>9.00</td>\n",
       "      <td>0.545</td>\n",
       "      <td>0.770</td>\n",
       "      <td>7.20</td>\n",
       "      <td>4.15</td>\n",
       "      <td>303.0</td>\n",
       "      <td>40.0</td>\n",
       "      <td>9.00</td>\n",
       "    </tr>\n",
       "    <tr>\n",
       "      <th>2010-01-02 02:00:00</th>\n",
       "      <td>0.370</td>\n",
       "      <td>0.525</td>\n",
       "      <td>10.80</td>\n",
       "      <td>7.10</td>\n",
       "      <td>189.0</td>\n",
       "      <td>12.0</td>\n",
       "      <td>8.30</td>\n",
       "      <td>0.465</td>\n",
       "      <td>0.690</td>\n",
       "      <td>11.50</td>\n",
       "      <td>...</td>\n",
       "      <td>212.0</td>\n",
       "      <td>16.5</td>\n",
       "      <td>9.00</td>\n",
       "      <td>0.590</td>\n",
       "      <td>0.950</td>\n",
       "      <td>10.25</td>\n",
       "      <td>4.20</td>\n",
       "      <td>280.0</td>\n",
       "      <td>27.0</td>\n",
       "      <td>8.85</td>\n",
       "    </tr>\n",
       "    <tr>\n",
       "      <th>2010-01-02 03:00:00</th>\n",
       "      <td>0.350</td>\n",
       "      <td>0.555</td>\n",
       "      <td>11.10</td>\n",
       "      <td>5.75</td>\n",
       "      <td>190.0</td>\n",
       "      <td>20.5</td>\n",
       "      <td>8.85</td>\n",
       "      <td>0.480</td>\n",
       "      <td>0.780</td>\n",
       "      <td>10.80</td>\n",
       "      <td>...</td>\n",
       "      <td>219.0</td>\n",
       "      <td>13.5</td>\n",
       "      <td>8.95</td>\n",
       "      <td>0.705</td>\n",
       "      <td>1.260</td>\n",
       "      <td>4.40</td>\n",
       "      <td>3.75</td>\n",
       "      <td>332.0</td>\n",
       "      <td>44.0</td>\n",
       "      <td>8.80</td>\n",
       "    </tr>\n",
       "    <tr>\n",
       "      <th>2010-01-02 04:00:00</th>\n",
       "      <td>0.360</td>\n",
       "      <td>0.550</td>\n",
       "      <td>10.50</td>\n",
       "      <td>6.90</td>\n",
       "      <td>187.0</td>\n",
       "      <td>25.0</td>\n",
       "      <td>8.90</td>\n",
       "      <td>0.480</td>\n",
       "      <td>0.720</td>\n",
       "      <td>10.55</td>\n",
       "      <td>...</td>\n",
       "      <td>216.0</td>\n",
       "      <td>17.0</td>\n",
       "      <td>8.50</td>\n",
       "      <td>0.840</td>\n",
       "      <td>1.375</td>\n",
       "      <td>4.60</td>\n",
       "      <td>3.50</td>\n",
       "      <td>337.5</td>\n",
       "      <td>47.0</td>\n",
       "      <td>9.10</td>\n",
       "    </tr>\n",
       "    <tr>\n",
       "      <th>...</th>\n",
       "      <td>...</td>\n",
       "      <td>...</td>\n",
       "      <td>...</td>\n",
       "      <td>...</td>\n",
       "      <td>...</td>\n",
       "      <td>...</td>\n",
       "      <td>...</td>\n",
       "      <td>...</td>\n",
       "      <td>...</td>\n",
       "      <td>...</td>\n",
       "      <td>...</td>\n",
       "      <td>...</td>\n",
       "      <td>...</td>\n",
       "      <td>...</td>\n",
       "      <td>...</td>\n",
       "      <td>...</td>\n",
       "      <td>...</td>\n",
       "      <td>...</td>\n",
       "      <td>...</td>\n",
       "      <td>...</td>\n",
       "      <td>...</td>\n",
       "    </tr>\n",
       "    <tr>\n",
       "      <th>2019-12-30 19:00:00</th>\n",
       "      <td>0.850</td>\n",
       "      <td>1.495</td>\n",
       "      <td>5.05</td>\n",
       "      <td>4.30</td>\n",
       "      <td>188.0</td>\n",
       "      <td>20.5</td>\n",
       "      <td>10.60</td>\n",
       "      <td>0.880</td>\n",
       "      <td>1.375</td>\n",
       "      <td>11.15</td>\n",
       "      <td>...</td>\n",
       "      <td>210.5</td>\n",
       "      <td>15.0</td>\n",
       "      <td>10.70</td>\n",
       "      <td>1.460</td>\n",
       "      <td>2.230</td>\n",
       "      <td>11.80</td>\n",
       "      <td>6.40</td>\n",
       "      <td>266.0</td>\n",
       "      <td>48.5</td>\n",
       "      <td>10.60</td>\n",
       "    </tr>\n",
       "    <tr>\n",
       "      <th>2019-12-30 20:00:00</th>\n",
       "      <td>0.805</td>\n",
       "      <td>1.145</td>\n",
       "      <td>5.15</td>\n",
       "      <td>4.35</td>\n",
       "      <td>188.0</td>\n",
       "      <td>18.5</td>\n",
       "      <td>10.60</td>\n",
       "      <td>0.920</td>\n",
       "      <td>1.285</td>\n",
       "      <td>10.80</td>\n",
       "      <td>...</td>\n",
       "      <td>212.5</td>\n",
       "      <td>12.5</td>\n",
       "      <td>10.70</td>\n",
       "      <td>1.425</td>\n",
       "      <td>2.070</td>\n",
       "      <td>11.45</td>\n",
       "      <td>6.65</td>\n",
       "      <td>260.5</td>\n",
       "      <td>41.5</td>\n",
       "      <td>10.60</td>\n",
       "    </tr>\n",
       "    <tr>\n",
       "      <th>2019-12-30 21:00:00</th>\n",
       "      <td>0.745</td>\n",
       "      <td>1.225</td>\n",
       "      <td>5.15</td>\n",
       "      <td>4.30</td>\n",
       "      <td>185.0</td>\n",
       "      <td>19.0</td>\n",
       "      <td>10.55</td>\n",
       "      <td>0.905</td>\n",
       "      <td>1.165</td>\n",
       "      <td>10.55</td>\n",
       "      <td>...</td>\n",
       "      <td>206.0</td>\n",
       "      <td>14.0</td>\n",
       "      <td>10.85</td>\n",
       "      <td>1.280</td>\n",
       "      <td>2.020</td>\n",
       "      <td>11.80</td>\n",
       "      <td>6.45</td>\n",
       "      <td>282.0</td>\n",
       "      <td>36.0</td>\n",
       "      <td>10.60</td>\n",
       "    </tr>\n",
       "    <tr>\n",
       "      <th>2019-12-30 22:00:00</th>\n",
       "      <td>0.710</td>\n",
       "      <td>0.975</td>\n",
       "      <td>5.45</td>\n",
       "      <td>4.25</td>\n",
       "      <td>183.5</td>\n",
       "      <td>21.0</td>\n",
       "      <td>10.50</td>\n",
       "      <td>0.830</td>\n",
       "      <td>1.295</td>\n",
       "      <td>11.45</td>\n",
       "      <td>...</td>\n",
       "      <td>210.5</td>\n",
       "      <td>15.0</td>\n",
       "      <td>10.90</td>\n",
       "      <td>1.230</td>\n",
       "      <td>1.870</td>\n",
       "      <td>11.45</td>\n",
       "      <td>6.65</td>\n",
       "      <td>275.5</td>\n",
       "      <td>37.0</td>\n",
       "      <td>10.60</td>\n",
       "    </tr>\n",
       "    <tr>\n",
       "      <th>2019-12-30 23:00:00</th>\n",
       "      <td>0.735</td>\n",
       "      <td>1.150</td>\n",
       "      <td>5.60</td>\n",
       "      <td>4.10</td>\n",
       "      <td>180.5</td>\n",
       "      <td>19.5</td>\n",
       "      <td>10.50</td>\n",
       "      <td>0.805</td>\n",
       "      <td>1.000</td>\n",
       "      <td>11.45</td>\n",
       "      <td>...</td>\n",
       "      <td>210.0</td>\n",
       "      <td>14.5</td>\n",
       "      <td>10.85</td>\n",
       "      <td>1.260</td>\n",
       "      <td>1.635</td>\n",
       "      <td>11.80</td>\n",
       "      <td>6.95</td>\n",
       "      <td>279.0</td>\n",
       "      <td>32.5</td>\n",
       "      <td>10.60</td>\n",
       "    </tr>\n",
       "  </tbody>\n",
       "</table>\n",
       "<p>87600 rows × 21 columns</p>\n",
       "</div>"
      ],
      "text/plain": [
       "                     1Wave Height (m)  1Max Wave Height (m)  1Tpeak (s)  \\\n",
       "Time (GMT)                                                                \n",
       "2010-01-02 00:00:00             0.390                 0.560       10.80   \n",
       "2010-01-02 01:00:00             0.380                 0.570       12.15   \n",
       "2010-01-02 02:00:00             0.370                 0.525       10.80   \n",
       "2010-01-02 03:00:00             0.350                 0.555       11.10   \n",
       "2010-01-02 04:00:00             0.360                 0.550       10.50   \n",
       "...                               ...                   ...         ...   \n",
       "2019-12-30 19:00:00             0.850                 1.495        5.05   \n",
       "2019-12-30 20:00:00             0.805                 1.145        5.15   \n",
       "2019-12-30 21:00:00             0.745                 1.225        5.15   \n",
       "2019-12-30 22:00:00             0.710                 0.975        5.45   \n",
       "2019-12-30 23:00:00             0.735                 1.150        5.60   \n",
       "\n",
       "                     1Tz (s)  1Peak Direction (degrees)  1Spread (degrees)  \\\n",
       "Time (GMT)                                                                   \n",
       "2010-01-02 00:00:00     6.55                      187.5               13.0   \n",
       "2010-01-02 01:00:00     6.90                      184.0               10.5   \n",
       "2010-01-02 02:00:00     7.10                      189.0               12.0   \n",
       "2010-01-02 03:00:00     5.75                      190.0               20.5   \n",
       "2010-01-02 04:00:00     6.90                      187.0               25.0   \n",
       "...                      ...                        ...                ...   \n",
       "2019-12-30 19:00:00     4.30                      188.0               20.5   \n",
       "2019-12-30 20:00:00     4.35                      188.0               18.5   \n",
       "2019-12-30 21:00:00     4.30                      185.0               19.0   \n",
       "2019-12-30 22:00:00     4.25                      183.5               21.0   \n",
       "2019-12-30 23:00:00     4.10                      180.5               19.5   \n",
       "\n",
       "                     1Sea Temp (C)  2Wave Height (m)  2Max Wave Height (m)  \\\n",
       "Time (GMT)                                                                   \n",
       "2010-01-02 00:00:00           8.15             0.550                 0.780   \n",
       "2010-01-02 01:00:00           8.15             0.515                 0.825   \n",
       "2010-01-02 02:00:00           8.30             0.465                 0.690   \n",
       "2010-01-02 03:00:00           8.85             0.480                 0.780   \n",
       "2010-01-02 04:00:00           8.90             0.480                 0.720   \n",
       "...                            ...               ...                   ...   \n",
       "2019-12-30 19:00:00          10.60             0.880                 1.375   \n",
       "2019-12-30 20:00:00          10.60             0.920                 1.285   \n",
       "2019-12-30 21:00:00          10.55             0.905                 1.165   \n",
       "2019-12-30 22:00:00          10.50             0.830                 1.295   \n",
       "2019-12-30 23:00:00          10.50             0.805                 1.000   \n",
       "\n",
       "                     2Tpeak (s)  ...  2Peak Direction (degrees)  \\\n",
       "Time (GMT)                       ...                              \n",
       "2010-01-02 00:00:00       12.20  ...                      204.5   \n",
       "2010-01-02 01:00:00       11.80  ...                      209.0   \n",
       "2010-01-02 02:00:00       11.50  ...                      212.0   \n",
       "2010-01-02 03:00:00       10.80  ...                      219.0   \n",
       "2010-01-02 04:00:00       10.55  ...                      216.0   \n",
       "...                         ...  ...                        ...   \n",
       "2019-12-30 19:00:00       11.15  ...                      210.5   \n",
       "2019-12-30 20:00:00       10.80  ...                      212.5   \n",
       "2019-12-30 21:00:00       10.55  ...                      206.0   \n",
       "2019-12-30 22:00:00       11.45  ...                      210.5   \n",
       "2019-12-30 23:00:00       11.45  ...                      210.0   \n",
       "\n",
       "                     2Spread (degrees)  2Sea Temp (C)  3Wave Height (m)  \\\n",
       "Time (GMT)                                                                \n",
       "2010-01-02 00:00:00               17.0           9.05             0.530   \n",
       "2010-01-02 01:00:00               16.5           9.00             0.545   \n",
       "2010-01-02 02:00:00               16.5           9.00             0.590   \n",
       "2010-01-02 03:00:00               13.5           8.95             0.705   \n",
       "2010-01-02 04:00:00               17.0           8.50             0.840   \n",
       "...                                ...            ...               ...   \n",
       "2019-12-30 19:00:00               15.0          10.70             1.460   \n",
       "2019-12-30 20:00:00               12.5          10.70             1.425   \n",
       "2019-12-30 21:00:00               14.0          10.85             1.280   \n",
       "2019-12-30 22:00:00               15.0          10.90             1.230   \n",
       "2019-12-30 23:00:00               14.5          10.85             1.260   \n",
       "\n",
       "                     3Max Wave Height (m)  3Tpeak (s)  3Tz (s)  \\\n",
       "Time (GMT)                                                       \n",
       "2010-01-02 00:00:00                 0.865        7.65     4.05   \n",
       "2010-01-02 01:00:00                 0.770        7.20     4.15   \n",
       "2010-01-02 02:00:00                 0.950       10.25     4.20   \n",
       "2010-01-02 03:00:00                 1.260        4.40     3.75   \n",
       "2010-01-02 04:00:00                 1.375        4.60     3.50   \n",
       "...                                   ...         ...      ...   \n",
       "2019-12-30 19:00:00                 2.230       11.80     6.40   \n",
       "2019-12-30 20:00:00                 2.070       11.45     6.65   \n",
       "2019-12-30 21:00:00                 2.020       11.80     6.45   \n",
       "2019-12-30 22:00:00                 1.870       11.45     6.65   \n",
       "2019-12-30 23:00:00                 1.635       11.80     6.95   \n",
       "\n",
       "                     3Peak Direction (degrees)  3Spread (degrees)  \\\n",
       "Time (GMT)                                                          \n",
       "2010-01-02 00:00:00                      299.5               34.5   \n",
       "2010-01-02 01:00:00                      303.0               40.0   \n",
       "2010-01-02 02:00:00                      280.0               27.0   \n",
       "2010-01-02 03:00:00                      332.0               44.0   \n",
       "2010-01-02 04:00:00                      337.5               47.0   \n",
       "...                                        ...                ...   \n",
       "2019-12-30 19:00:00                      266.0               48.5   \n",
       "2019-12-30 20:00:00                      260.5               41.5   \n",
       "2019-12-30 21:00:00                      282.0               36.0   \n",
       "2019-12-30 22:00:00                      275.5               37.0   \n",
       "2019-12-30 23:00:00                      279.0               32.5   \n",
       "\n",
       "                     3Sea Temp (C)  \n",
       "Time (GMT)                          \n",
       "2010-01-02 00:00:00           9.05  \n",
       "2010-01-02 01:00:00           9.00  \n",
       "2010-01-02 02:00:00           8.85  \n",
       "2010-01-02 03:00:00           8.80  \n",
       "2010-01-02 04:00:00           9.10  \n",
       "...                            ...  \n",
       "2019-12-30 19:00:00          10.60  \n",
       "2019-12-30 20:00:00          10.60  \n",
       "2019-12-30 21:00:00          10.60  \n",
       "2019-12-30 22:00:00          10.60  \n",
       "2019-12-30 23:00:00          10.60  \n",
       "\n",
       "[87600 rows x 21 columns]"
      ]
     },
     "execution_count": 357,
     "metadata": {},
     "output_type": "execute_result"
    }
   ],
   "source": [
    "table"
   ]
  },
  {
   "cell_type": "code",
   "execution_count": 359,
   "metadata": {
    "scrolled": true
   },
   "outputs": [
    {
     "name": "stderr",
     "output_type": "stream",
     "text": [
      "C:\\ProgramData\\Anaconda3\\lib\\site-packages\\ipykernel_launcher.py:2: FutureWarning: the 'freq' keyword is deprecated, use 'period' instead\n",
      "  \n"
     ]
    },
    {
     "data": {
      "image/png": "[encoded data removed]",
      "text/plain": [
       "<Figure size 432x288 with 4 Axes>"
      ]
     },
     "execution_count": 359,
     "metadata": {},
     "output_type": "execute_result"
    },
    {
     "data": {
      "image/png": "[encoded data removed]",
      "text/plain": [
       "<Figure size 432x288 with 4 Axes>"
      ]
     },
     "metadata": {
      "needs_background": "light"
     },
     "output_type": "display_data"
    }
   ],
   "source": [
    "from statsmodels.tsa.seasonal import seasonal_decompose \n",
    "decomposition = seasonal_decompose(table.dropna(axis=0)['1Wave Height (m)'], freq=24, two_sided=False)\n",
    "decomposition.plot()"
   ]
  },
  {
   "cell_type": "code",
   "execution_count": 360,
   "metadata": {},
   "outputs": [],
   "source": [
    "from sklearn.metrics import r2_score"
   ]
  },
  {
   "cell_type": "code",
   "execution_count": 361,
   "metadata": {
    "scrolled": true
   },
   "outputs": [
    {
     "data": {
      "text/html": [
       "<div>\n",
       "<style scoped>\n",
       "    .dataframe tbody tr th:only-of-type {\n",
       "        vertical-align: middle;\n",
       "    }\n",
       "\n",
       "    .dataframe tbody tr th {\n",
       "        vertical-align: top;\n",
       "    }\n",
       "\n",
       "    .dataframe thead th {\n",
       "        text-align: right;\n",
       "    }\n",
       "</style>\n",
       "<table border=\"1\" class=\"dataframe\">\n",
       "  <thead>\n",
       "    <tr style=\"text-align: right;\">\n",
       "      <th></th>\n",
       "      <th>1Wave Height (m)</th>\n",
       "      <th>1Max Wave Height (m)</th>\n",
       "      <th>1Tpeak (s)</th>\n",
       "      <th>1Tz (s)</th>\n",
       "      <th>1Peak Direction (degrees)</th>\n",
       "      <th>1Spread (degrees)</th>\n",
       "      <th>1Sea Temp (C)</th>\n",
       "      <th>2Wave Height (m)</th>\n",
       "      <th>2Max Wave Height (m)</th>\n",
       "      <th>2Tpeak (s)</th>\n",
       "      <th>...</th>\n",
       "      <th>2Peak Direction (degrees)</th>\n",
       "      <th>2Spread (degrees)</th>\n",
       "      <th>2Sea Temp (C)</th>\n",
       "      <th>3Wave Height (m)</th>\n",
       "      <th>3Max Wave Height (m)</th>\n",
       "      <th>3Tpeak (s)</th>\n",
       "      <th>3Tz (s)</th>\n",
       "      <th>3Peak Direction (degrees)</th>\n",
       "      <th>3Spread (degrees)</th>\n",
       "      <th>3Sea Temp (C)</th>\n",
       "    </tr>\n",
       "    <tr>\n",
       "      <th>Time (GMT)</th>\n",
       "      <th></th>\n",
       "      <th></th>\n",
       "      <th></th>\n",
       "      <th></th>\n",
       "      <th></th>\n",
       "      <th></th>\n",
       "      <th></th>\n",
       "      <th></th>\n",
       "      <th></th>\n",
       "      <th></th>\n",
       "      <th></th>\n",
       "      <th></th>\n",
       "      <th></th>\n",
       "      <th></th>\n",
       "      <th></th>\n",
       "      <th></th>\n",
       "      <th></th>\n",
       "      <th></th>\n",
       "      <th></th>\n",
       "      <th></th>\n",
       "      <th></th>\n",
       "    </tr>\n",
       "  </thead>\n",
       "  <tbody>\n",
       "    <tr>\n",
       "      <th>2010-01-02 00:00:00</th>\n",
       "      <td>0.390</td>\n",
       "      <td>0.560</td>\n",
       "      <td>10.80</td>\n",
       "      <td>6.55</td>\n",
       "      <td>187.5</td>\n",
       "      <td>13.0</td>\n",
       "      <td>8.15</td>\n",
       "      <td>0.550</td>\n",
       "      <td>0.780</td>\n",
       "      <td>12.20</td>\n",
       "      <td>...</td>\n",
       "      <td>204.5</td>\n",
       "      <td>17.0</td>\n",
       "      <td>9.05</td>\n",
       "      <td>0.530</td>\n",
       "      <td>0.865</td>\n",
       "      <td>7.65</td>\n",
       "      <td>4.05</td>\n",
       "      <td>299.5</td>\n",
       "      <td>34.5</td>\n",
       "      <td>9.05</td>\n",
       "    </tr>\n",
       "    <tr>\n",
       "      <th>2010-01-02 01:00:00</th>\n",
       "      <td>0.380</td>\n",
       "      <td>0.570</td>\n",
       "      <td>12.15</td>\n",
       "      <td>6.90</td>\n",
       "      <td>184.0</td>\n",
       "      <td>10.5</td>\n",
       "      <td>8.15</td>\n",
       "      <td>0.515</td>\n",
       "      <td>0.825</td>\n",
       "      <td>11.80</td>\n",
       "      <td>...</td>\n",
       "      <td>209.0</td>\n",
       "      <td>16.5</td>\n",
       "      <td>9.00</td>\n",
       "      <td>0.545</td>\n",
       "      <td>0.770</td>\n",
       "      <td>7.20</td>\n",
       "      <td>4.15</td>\n",
       "      <td>303.0</td>\n",
       "      <td>40.0</td>\n",
       "      <td>9.00</td>\n",
       "    </tr>\n",
       "    <tr>\n",
       "      <th>2010-01-02 02:00:00</th>\n",
       "      <td>0.370</td>\n",
       "      <td>0.525</td>\n",
       "      <td>10.80</td>\n",
       "      <td>7.10</td>\n",
       "      <td>189.0</td>\n",
       "      <td>12.0</td>\n",
       "      <td>8.30</td>\n",
       "      <td>0.465</td>\n",
       "      <td>0.690</td>\n",
       "      <td>11.50</td>\n",
       "      <td>...</td>\n",
       "      <td>212.0</td>\n",
       "      <td>16.5</td>\n",
       "      <td>9.00</td>\n",
       "      <td>0.590</td>\n",
       "      <td>0.950</td>\n",
       "      <td>10.25</td>\n",
       "      <td>4.20</td>\n",
       "      <td>280.0</td>\n",
       "      <td>27.0</td>\n",
       "      <td>8.85</td>\n",
       "    </tr>\n",
       "    <tr>\n",
       "      <th>2010-01-02 03:00:00</th>\n",
       "      <td>0.350</td>\n",
       "      <td>0.555</td>\n",
       "      <td>11.10</td>\n",
       "      <td>5.75</td>\n",
       "      <td>190.0</td>\n",
       "      <td>20.5</td>\n",
       "      <td>8.85</td>\n",
       "      <td>0.480</td>\n",
       "      <td>0.780</td>\n",
       "      <td>10.80</td>\n",
       "      <td>...</td>\n",
       "      <td>219.0</td>\n",
       "      <td>13.5</td>\n",
       "      <td>8.95</td>\n",
       "      <td>0.705</td>\n",
       "      <td>1.260</td>\n",
       "      <td>4.40</td>\n",
       "      <td>3.75</td>\n",
       "      <td>332.0</td>\n",
       "      <td>44.0</td>\n",
       "      <td>8.80</td>\n",
       "    </tr>\n",
       "    <tr>\n",
       "      <th>2010-01-02 04:00:00</th>\n",
       "      <td>0.360</td>\n",
       "      <td>0.550</td>\n",
       "      <td>10.50</td>\n",
       "      <td>6.90</td>\n",
       "      <td>187.0</td>\n",
       "      <td>25.0</td>\n",
       "      <td>8.90</td>\n",
       "      <td>0.480</td>\n",
       "      <td>0.720</td>\n",
       "      <td>10.55</td>\n",
       "      <td>...</td>\n",
       "      <td>216.0</td>\n",
       "      <td>17.0</td>\n",
       "      <td>8.50</td>\n",
       "      <td>0.840</td>\n",
       "      <td>1.375</td>\n",
       "      <td>4.60</td>\n",
       "      <td>3.50</td>\n",
       "      <td>337.5</td>\n",
       "      <td>47.0</td>\n",
       "      <td>9.10</td>\n",
       "    </tr>\n",
       "    <tr>\n",
       "      <th>...</th>\n",
       "      <td>...</td>\n",
       "      <td>...</td>\n",
       "      <td>...</td>\n",
       "      <td>...</td>\n",
       "      <td>...</td>\n",
       "      <td>...</td>\n",
       "      <td>...</td>\n",
       "      <td>...</td>\n",
       "      <td>...</td>\n",
       "      <td>...</td>\n",
       "      <td>...</td>\n",
       "      <td>...</td>\n",
       "      <td>...</td>\n",
       "      <td>...</td>\n",
       "      <td>...</td>\n",
       "      <td>...</td>\n",
       "      <td>...</td>\n",
       "      <td>...</td>\n",
       "      <td>...</td>\n",
       "      <td>...</td>\n",
       "      <td>...</td>\n",
       "    </tr>\n",
       "    <tr>\n",
       "      <th>2019-12-30 19:00:00</th>\n",
       "      <td>0.850</td>\n",
       "      <td>1.495</td>\n",
       "      <td>5.05</td>\n",
       "      <td>4.30</td>\n",
       "      <td>188.0</td>\n",
       "      <td>20.5</td>\n",
       "      <td>10.60</td>\n",
       "      <td>0.880</td>\n",
       "      <td>1.375</td>\n",
       "      <td>11.15</td>\n",
       "      <td>...</td>\n",
       "      <td>210.5</td>\n",
       "      <td>15.0</td>\n",
       "      <td>10.70</td>\n",
       "      <td>1.460</td>\n",
       "      <td>2.230</td>\n",
       "      <td>11.80</td>\n",
       "      <td>6.40</td>\n",
       "      <td>266.0</td>\n",
       "      <td>48.5</td>\n",
       "      <td>10.60</td>\n",
       "    </tr>\n",
       "    <tr>\n",
       "      <th>2019-12-30 20:00:00</th>\n",
       "      <td>0.805</td>\n",
       "      <td>1.145</td>\n",
       "      <td>5.15</td>\n",
       "      <td>4.35</td>\n",
       "      <td>188.0</td>\n",
       "      <td>18.5</td>\n",
       "      <td>10.60</td>\n",
       "      <td>0.920</td>\n",
       "      <td>1.285</td>\n",
       "      <td>10.80</td>\n",
       "      <td>...</td>\n",
       "      <td>212.5</td>\n",
       "      <td>12.5</td>\n",
       "      <td>10.70</td>\n",
       "      <td>1.425</td>\n",
       "      <td>2.070</td>\n",
       "      <td>11.45</td>\n",
       "      <td>6.65</td>\n",
       "      <td>260.5</td>\n",
       "      <td>41.5</td>\n",
       "      <td>10.60</td>\n",
       "    </tr>\n",
       "    <tr>\n",
       "      <th>2019-12-30 21:00:00</th>\n",
       "      <td>0.745</td>\n",
       "      <td>1.225</td>\n",
       "      <td>5.15</td>\n",
       "      <td>4.30</td>\n",
       "      <td>185.0</td>\n",
       "      <td>19.0</td>\n",
       "      <td>10.55</td>\n",
       "      <td>0.905</td>\n",
       "      <td>1.165</td>\n",
       "      <td>10.55</td>\n",
       "      <td>...</td>\n",
       "      <td>206.0</td>\n",
       "      <td>14.0</td>\n",
       "      <td>10.85</td>\n",
       "      <td>1.280</td>\n",
       "      <td>2.020</td>\n",
       "      <td>11.80</td>\n",
       "      <td>6.45</td>\n",
       "      <td>282.0</td>\n",
       "      <td>36.0</td>\n",
       "      <td>10.60</td>\n",
       "    </tr>\n",
       "    <tr>\n",
       "      <th>2019-12-30 22:00:00</th>\n",
       "      <td>0.710</td>\n",
       "      <td>0.975</td>\n",
       "      <td>5.45</td>\n",
       "      <td>4.25</td>\n",
       "      <td>183.5</td>\n",
       "      <td>21.0</td>\n",
       "      <td>10.50</td>\n",
       "      <td>0.830</td>\n",
       "      <td>1.295</td>\n",
       "      <td>11.45</td>\n",
       "      <td>...</td>\n",
       "      <td>210.5</td>\n",
       "      <td>15.0</td>\n",
       "      <td>10.90</td>\n",
       "      <td>1.230</td>\n",
       "      <td>1.870</td>\n",
       "      <td>11.45</td>\n",
       "      <td>6.65</td>\n",
       "      <td>275.5</td>\n",
       "      <td>37.0</td>\n",
       "      <td>10.60</td>\n",
       "    </tr>\n",
       "    <tr>\n",
       "      <th>2019-12-30 23:00:00</th>\n",
       "      <td>0.735</td>\n",
       "      <td>1.150</td>\n",
       "      <td>5.60</td>\n",
       "      <td>4.10</td>\n",
       "      <td>180.5</td>\n",
       "      <td>19.5</td>\n",
       "      <td>10.50</td>\n",
       "      <td>0.805</td>\n",
       "      <td>1.000</td>\n",
       "      <td>11.45</td>\n",
       "      <td>...</td>\n",
       "      <td>210.0</td>\n",
       "      <td>14.5</td>\n",
       "      <td>10.85</td>\n",
       "      <td>1.260</td>\n",
       "      <td>1.635</td>\n",
       "      <td>11.80</td>\n",
       "      <td>6.95</td>\n",
       "      <td>279.0</td>\n",
       "      <td>32.5</td>\n",
       "      <td>10.60</td>\n",
       "    </tr>\n",
       "  </tbody>\n",
       "</table>\n",
       "<p>87600 rows × 21 columns</p>\n",
       "</div>"
      ],
      "text/plain": [
       "                     1Wave Height (m)  1Max Wave Height (m)  1Tpeak (s)  \\\n",
       "Time (GMT)                                                                \n",
       "2010-01-02 00:00:00             0.390                 0.560       10.80   \n",
       "2010-01-02 01:00:00             0.380                 0.570       12.15   \n",
       "2010-01-02 02:00:00             0.370                 0.525       10.80   \n",
       "2010-01-02 03:00:00             0.350                 0.555       11.10   \n",
       "2010-01-02 04:00:00             0.360                 0.550       10.50   \n",
       "...                               ...                   ...         ...   \n",
       "2019-12-30 19:00:00             0.850                 1.495        5.05   \n",
       "2019-12-30 20:00:00             0.805                 1.145        5.15   \n",
       "2019-12-30 21:00:00             0.745                 1.225        5.15   \n",
       "2019-12-30 22:00:00             0.710                 0.975        5.45   \n",
       "2019-12-30 23:00:00             0.735                 1.150        5.60   \n",
       "\n",
       "                     1Tz (s)  1Peak Direction (degrees)  1Spread (degrees)  \\\n",
       "Time (GMT)                                                                   \n",
       "2010-01-02 00:00:00     6.55                      187.5               13.0   \n",
       "2010-01-02 01:00:00     6.90                      184.0               10.5   \n",
       "2010-01-02 02:00:00     7.10                      189.0               12.0   \n",
       "2010-01-02 03:00:00     5.75                      190.0               20.5   \n",
       "2010-01-02 04:00:00     6.90                      187.0               25.0   \n",
       "...                      ...                        ...                ...   \n",
       "2019-12-30 19:00:00     4.30                      188.0               20.5   \n",
       "2019-12-30 20:00:00     4.35                      188.0               18.5   \n",
       "2019-12-30 21:00:00     4.30                      185.0               19.0   \n",
       "2019-12-30 22:00:00     4.25                      183.5               21.0   \n",
       "2019-12-30 23:00:00     4.10                      180.5               19.5   \n",
       "\n",
       "                     1Sea Temp (C)  2Wave Height (m)  2Max Wave Height (m)  \\\n",
       "Time (GMT)                                                                   \n",
       "2010-01-02 00:00:00           8.15             0.550                 0.780   \n",
       "2010-01-02 01:00:00           8.15             0.515                 0.825   \n",
       "2010-01-02 02:00:00           8.30             0.465                 0.690   \n",
       "2010-01-02 03:00:00           8.85             0.480                 0.780   \n",
       "2010-01-02 04:00:00           8.90             0.480                 0.720   \n",
       "...                            ...               ...                   ...   \n",
       "2019-12-30 19:00:00          10.60             0.880                 1.375   \n",
       "2019-12-30 20:00:00          10.60             0.920                 1.285   \n",
       "2019-12-30 21:00:00          10.55             0.905                 1.165   \n",
       "2019-12-30 22:00:00          10.50             0.830                 1.295   \n",
       "2019-12-30 23:00:00          10.50             0.805                 1.000   \n",
       "\n",
       "                     2Tpeak (s)  ...  2Peak Direction (degrees)  \\\n",
       "Time (GMT)                       ...                              \n",
       "2010-01-02 00:00:00       12.20  ...                      204.5   \n",
       "2010-01-02 01:00:00       11.80  ...                      209.0   \n",
       "2010-01-02 02:00:00       11.50  ...                      212.0   \n",
       "2010-01-02 03:00:00       10.80  ...                      219.0   \n",
       "2010-01-02 04:00:00       10.55  ...                      216.0   \n",
       "...                         ...  ...                        ...   \n",
       "2019-12-30 19:00:00       11.15  ...                      210.5   \n",
       "2019-12-30 20:00:00       10.80  ...                      212.5   \n",
       "2019-12-30 21:00:00       10.55  ...                      206.0   \n",
       "2019-12-30 22:00:00       11.45  ...                      210.5   \n",
       "2019-12-30 23:00:00       11.45  ...                      210.0   \n",
       "\n",
       "                     2Spread (degrees)  2Sea Temp (C)  3Wave Height (m)  \\\n",
       "Time (GMT)                                                                \n",
       "2010-01-02 00:00:00               17.0           9.05             0.530   \n",
       "2010-01-02 01:00:00               16.5           9.00             0.545   \n",
       "2010-01-02 02:00:00               16.5           9.00             0.590   \n",
       "2010-01-02 03:00:00               13.5           8.95             0.705   \n",
       "2010-01-02 04:00:00               17.0           8.50             0.840   \n",
       "...                                ...            ...               ...   \n",
       "2019-12-30 19:00:00               15.0          10.70             1.460   \n",
       "2019-12-30 20:00:00               12.5          10.70             1.425   \n",
       "2019-12-30 21:00:00               14.0          10.85             1.280   \n",
       "2019-12-30 22:00:00               15.0          10.90             1.230   \n",
       "2019-12-30 23:00:00               14.5          10.85             1.260   \n",
       "\n",
       "                     3Max Wave Height (m)  3Tpeak (s)  3Tz (s)  \\\n",
       "Time (GMT)                                                       \n",
       "2010-01-02 00:00:00                 0.865        7.65     4.05   \n",
       "2010-01-02 01:00:00                 0.770        7.20     4.15   \n",
       "2010-01-02 02:00:00                 0.950       10.25     4.20   \n",
       "2010-01-02 03:00:00                 1.260        4.40     3.75   \n",
       "2010-01-02 04:00:00                 1.375        4.60     3.50   \n",
       "...                                   ...         ...      ...   \n",
       "2019-12-30 19:00:00                 2.230       11.80     6.40   \n",
       "2019-12-30 20:00:00                 2.070       11.45     6.65   \n",
       "2019-12-30 21:00:00                 2.020       11.80     6.45   \n",
       "2019-12-30 22:00:00                 1.870       11.45     6.65   \n",
       "2019-12-30 23:00:00                 1.635       11.80     6.95   \n",
       "\n",
       "                     3Peak Direction (degrees)  3Spread (degrees)  \\\n",
       "Time (GMT)                                                          \n",
       "2010-01-02 00:00:00                      299.5               34.5   \n",
       "2010-01-02 01:00:00                      303.0               40.0   \n",
       "2010-01-02 02:00:00                      280.0               27.0   \n",
       "2010-01-02 03:00:00                      332.0               44.0   \n",
       "2010-01-02 04:00:00                      337.5               47.0   \n",
       "...                                        ...                ...   \n",
       "2019-12-30 19:00:00                      266.0               48.5   \n",
       "2019-12-30 20:00:00                      260.5               41.5   \n",
       "2019-12-30 21:00:00                      282.0               36.0   \n",
       "2019-12-30 22:00:00                      275.5               37.0   \n",
       "2019-12-30 23:00:00                      279.0               32.5   \n",
       "\n",
       "                     3Sea Temp (C)  \n",
       "Time (GMT)                          \n",
       "2010-01-02 00:00:00           9.05  \n",
       "2010-01-02 01:00:00           9.00  \n",
       "2010-01-02 02:00:00           8.85  \n",
       "2010-01-02 03:00:00           8.80  \n",
       "2010-01-02 04:00:00           9.10  \n",
       "...                            ...  \n",
       "2019-12-30 19:00:00          10.60  \n",
       "2019-12-30 20:00:00          10.60  \n",
       "2019-12-30 21:00:00          10.60  \n",
       "2019-12-30 22:00:00          10.60  \n",
       "2019-12-30 23:00:00          10.60  \n",
       "\n",
       "[87600 rows x 21 columns]"
      ]
     },
     "execution_count": 361,
     "metadata": {},
     "output_type": "execute_result"
    }
   ],
   "source": [
    "table.resample('h').mean().dropna(axis=0)"
   ]
  },
  {
   "cell_type": "code",
   "execution_count": 380,
   "metadata": {},
   "outputs": [
    {
     "data": {
      "image/png": "[encoded data removed]",
      "text/plain": [
       "<Figure size 432x288 with 1 Axes>"
      ]
     },
     "metadata": {
      "needs_background": "light"
     },
     "output_type": "display_data"
    }
   ],
   "source": [
    "import tensorflow as tf\n",
    "\n",
    "Hs = table.dropna(axis=0)['1Wave Height (m)']\n",
    "fft = tf.signal.rfft(Hs)\n",
    "f_per_dataset = np.arange(0, fft.shape.as_list()[0])\n",
    "\n",
    "n_samples_h = len(Hs)\n",
    "hours_per_year = 24*365.2524\n",
    "years_per_dataset = n_samples_h/(hours_per_year)\n",
    "\n",
    "f_per_year = f_per_dataset/years_per_dataset\n",
    "plt.step(f_per_year, np.abs(fft))\n",
    "plt.xscale('log')\n",
    "plt.ylim(0, 12500)\n",
    "plt.xlim([0.1, max(plt.xlim())])\n",
    "plt.title('FFT for Hs of buoy1')\n",
    "plt.xticks([1, 365.2524], labels=['1/Year', '1/day'])\n",
    "_ = plt.xlabel('Frequency (log scale)')\n",
    "# plt.savefig('FFT_sat_windspeed_stationA.pdf')"
   ]
  },
  {
   "cell_type": "code",
   "execution_count": null,
   "metadata": {},
   "outputs": [],
   "source": []
  }
 ],
 "metadata": {
  "kernelspec": {
   "display_name": "Python 3",
   "language": "python",
   "name": "python3"
  },
  "language_info": {
   "codemirror_mode": {
    "name": "ipython",
    "version": 3
   },
   "file_extension": ".py",
   "mimetype": "text/x-python",
   "name": "python",
   "nbconvert_exporter": "python",
   "pygments_lexer": "ipython3",
   "version": "3.7.3"
  }
 },
 "nbformat": 4,
 "nbformat_minor": 2
}
